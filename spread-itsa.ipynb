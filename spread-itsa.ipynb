{
 "cells": [
  {
   "cell_type": "markdown",
   "id": "55c598a4",
   "metadata": {
    "id": "view-in-github",
    "papermill": {
     "duration": 0.005144,
     "end_time": "2022-12-15T15:28:51.071568",
     "exception": false,
     "start_time": "2022-12-15T15:28:51.066424",
     "status": "completed"
    },
    "tags": []
   },
   "source": [
    "<a href=\"https://colab.research.google.com/github/joaoxfernando/estudo-spreads/blob/main/Spread_ITSA.ipynb\" target=\"_parent\"><img src=\"https://colab.research.google.com/assets/colab-badge.svg\" alt=\"Open In Colab\"/></a>"
   ]
  },
  {
   "cell_type": "markdown",
   "id": "ad0770a3",
   "metadata": {
    "id": "pVom8Amb3OmT",
    "papermill": {
     "duration": 0.004046,
     "end_time": "2022-12-15T15:28:51.080007",
     "exception": false,
     "start_time": "2022-12-15T15:28:51.075961",
     "status": "completed"
    },
    "tags": []
   },
   "source": [
    "# Ferramenta para calculo de Spread entre pares de ações"
   ]
  },
  {
   "cell_type": "markdown",
   "id": "ec1776fd",
   "metadata": {
    "id": "MHdxjos7ySPV",
    "papermill": {
     "duration": 0.003993,
     "end_time": "2022-12-15T15:28:51.088335",
     "exception": false,
     "start_time": "2022-12-15T15:28:51.084342",
     "status": "completed"
    },
    "tags": []
   },
   "source": [
    "## Importando os módulos"
   ]
  },
  {
   "cell_type": "code",
   "execution_count": 1,
   "id": "c108c315",
   "metadata": {
    "execution": {
     "iopub.execute_input": "2022-12-15T15:28:51.098862Z",
     "iopub.status.busy": "2022-12-15T15:28:51.098223Z",
     "iopub.status.idle": "2022-12-15T15:29:15.570018Z",
     "shell.execute_reply": "2022-12-15T15:29:15.569060Z"
    },
    "id": "t5ic895h3LoY",
    "outputId": "95d2ba85-8b37-4473-d8ad-d464f170b1a0",
    "papermill": {
     "duration": 24.479873,
     "end_time": "2022-12-15T15:29:15.572411",
     "exception": false,
     "start_time": "2022-12-15T15:28:51.092538",
     "status": "completed"
    },
    "tags": []
   },
   "outputs": [
    {
     "name": "stdout",
     "output_type": "stream",
     "text": [
      "Collecting yfinance\r\n",
      "  Downloading yfinance-0.1.90-py2.py3-none-any.whl (29 kB)\r\n",
      "Requirement already satisfied: numpy>=1.16.5 in /opt/conda/lib/python3.7/site-packages (from yfinance) (1.21.6)\r\n",
      "Collecting lxml>=4.9.1\r\n",
      "  Downloading lxml-4.9.2-cp37-cp37m-manylinux_2_17_x86_64.manylinux2014_x86_64.manylinux_2_24_x86_64.whl (6.6 MB)\r\n",
      "\u001b[2K     \u001b[90m━━━━━━━━━━━━━━━━━━━━━━━━━━━━━━━━━━━━━━━━\u001b[0m \u001b[32m6.6/6.6 MB\u001b[0m \u001b[31m11.1 MB/s\u001b[0m eta \u001b[36m0:00:00\u001b[0m\r\n",
      "\u001b[?25hRequirement already satisfied: pandas>=1.3.0 in /opt/conda/lib/python3.7/site-packages (from yfinance) (1.3.5)\r\n",
      "Collecting multitasking>=0.0.7\r\n",
      "  Downloading multitasking-0.0.11-py3-none-any.whl (8.5 kB)\r\n",
      "Requirement already satisfied: requests>=2.26 in /opt/conda/lib/python3.7/site-packages (from yfinance) (2.27.1)\r\n",
      "Requirement already satisfied: appdirs>=1.4.4 in /opt/conda/lib/python3.7/site-packages (from yfinance) (1.4.4)\r\n",
      "Requirement already satisfied: python-dateutil>=2.7.3 in /opt/conda/lib/python3.7/site-packages (from pandas>=1.3.0->yfinance) (2.8.2)\r\n",
      "Requirement already satisfied: pytz>=2017.3 in /opt/conda/lib/python3.7/site-packages (from pandas>=1.3.0->yfinance) (2022.1)\r\n",
      "Requirement already satisfied: urllib3<1.27,>=1.21.1 in /opt/conda/lib/python3.7/site-packages (from requests>=2.26->yfinance) (1.26.9)\r\n",
      "Requirement already satisfied: charset-normalizer~=2.0.0 in /opt/conda/lib/python3.7/site-packages (from requests>=2.26->yfinance) (2.0.12)\r\n",
      "Requirement already satisfied: certifi>=2017.4.17 in /opt/conda/lib/python3.7/site-packages (from requests>=2.26->yfinance) (2022.6.15)\r\n",
      "Requirement already satisfied: idna<4,>=2.5 in /opt/conda/lib/python3.7/site-packages (from requests>=2.26->yfinance) (3.3)\r\n",
      "Requirement already satisfied: six>=1.5 in /opt/conda/lib/python3.7/site-packages (from python-dateutil>=2.7.3->pandas>=1.3.0->yfinance) (1.16.0)\r\n",
      "Installing collected packages: multitasking, lxml, yfinance\r\n",
      "  Attempting uninstall: lxml\r\n",
      "    Found existing installation: lxml 4.9.0\r\n",
      "    Uninstalling lxml-4.9.0:\r\n",
      "      Successfully uninstalled lxml-4.9.0\r\n",
      "Successfully installed lxml-4.9.2 multitasking-0.0.11 yfinance-0.1.90\r\n",
      "\u001b[33mWARNING: Running pip as the 'root' user can result in broken permissions and conflicting behaviour with the system package manager. It is recommended to use a virtual environment instead: https://pip.pypa.io/warnings/venv\u001b[0m\u001b[33m\r\n",
      "\u001b[0mCollecting kaleido\r\n",
      "  Downloading kaleido-0.2.1-py2.py3-none-manylinux1_x86_64.whl (79.9 MB)\r\n",
      "\u001b[2K     \u001b[90m━━━━━━━━━━━━━━━━━━━━━━━━━━━━━━━━━━━━━━━━\u001b[0m \u001b[32m79.9/79.9 MB\u001b[0m \u001b[31m13.4 MB/s\u001b[0m eta \u001b[36m0:00:00\u001b[0m\r\n",
      "\u001b[?25hInstalling collected packages: kaleido\r\n",
      "Successfully installed kaleido-0.2.1\r\n",
      "\u001b[33mWARNING: Running pip as the 'root' user can result in broken permissions and conflicting behaviour with the system package manager. It is recommended to use a virtual environment instead: https://pip.pypa.io/warnings/venv\u001b[0m\u001b[33m\r\n",
      "\u001b[0m"
     ]
    }
   ],
   "source": [
    "!pip install yfinance\n",
    "!pip install kaleido\n",
    "import pandas as pd\n",
    "import yfinance as yf"
   ]
  },
  {
   "cell_type": "code",
   "execution_count": null,
   "id": "898f2dbf",
   "metadata": {
    "id": "jpl21f3ZsRDE",
    "papermill": {
     "duration": 0.008868,
     "end_time": "2022-12-15T15:29:15.590781",
     "exception": false,
     "start_time": "2022-12-15T15:29:15.581913",
     "status": "completed"
    },
    "tags": []
   },
   "outputs": [],
   "source": []
  },
  {
   "cell_type": "code",
   "execution_count": 2,
   "id": "ee4fd94b",
   "metadata": {
    "execution": {
     "iopub.execute_input": "2022-12-15T15:29:15.612318Z",
     "iopub.status.busy": "2022-12-15T15:29:15.611498Z",
     "iopub.status.idle": "2022-12-15T15:29:15.615849Z",
     "shell.execute_reply": "2022-12-15T15:29:15.615300Z"
    },
    "id": "1P-ABgNG3cIv",
    "papermill": {
     "duration": 0.016368,
     "end_time": "2022-12-15T15:29:15.617477",
     "exception": false,
     "start_time": "2022-12-15T15:29:15.601109",
     "status": "completed"
    },
    "tags": []
   },
   "outputs": [],
   "source": [
    "# definindo os pares que vamos utilizar.\n",
    "par_itausa = ['ITSA3.SA', 'ITSA4.SA']\n",
    "\n",
    "# definindo data inicial e final para pesquisar cotações - formato deve ser: ANO-MES-DIA\n",
    "data_inicial = '2022-01-01'\n",
    "data_final = '2022-12-14'"
   ]
  },
  {
   "cell_type": "code",
   "execution_count": null,
   "id": "4dc7d0f6",
   "metadata": {
    "id": "UIPFnOcB3lf2",
    "papermill": {
     "duration": 0.008876,
     "end_time": "2022-12-15T15:29:15.635423",
     "exception": false,
     "start_time": "2022-12-15T15:29:15.626547",
     "status": "completed"
    },
    "tags": []
   },
   "outputs": [],
   "source": []
  },
  {
   "cell_type": "markdown",
   "id": "7ddf0753",
   "metadata": {
    "id": "yALS5NvnyfZ8",
    "papermill": {
     "duration": 0.008907,
     "end_time": "2022-12-15T15:29:15.653393",
     "exception": false,
     "start_time": "2022-12-15T15:29:15.644486",
     "status": "completed"
    },
    "tags": []
   },
   "source": [
    "## Pegando os dados de cada par e jogando em seu respectivo dataframe"
   ]
  },
  {
   "cell_type": "code",
   "execution_count": 3,
   "id": "4f719e45",
   "metadata": {
    "execution": {
     "iopub.execute_input": "2022-12-15T15:29:15.673916Z",
     "iopub.status.busy": "2022-12-15T15:29:15.673465Z",
     "iopub.status.idle": "2022-12-15T15:29:17.515287Z",
     "shell.execute_reply": "2022-12-15T15:29:17.514366Z"
    },
    "id": "tdocN-kFzrrk",
    "papermill": {
     "duration": 1.854957,
     "end_time": "2022-12-15T15:29:17.517422",
     "exception": false,
     "start_time": "2022-12-15T15:29:15.662465",
     "status": "completed"
    },
    "tags": []
   },
   "outputs": [],
   "source": [
    "itsa3 = yf.Ticker(par_itausa[0])\n",
    "df_itsa3 = itsa3.history(start=data_inicial, end=data_final)\n",
    "itsa4 = yf.Ticker(par_itausa[1])\n",
    "df_itsa4 = itsa4.history(start=data_inicial, end=data_final)"
   ]
  },
  {
   "cell_type": "code",
   "execution_count": 4,
   "id": "72d2c59c",
   "metadata": {
    "execution": {
     "iopub.execute_input": "2022-12-15T15:29:17.537279Z",
     "iopub.status.busy": "2022-12-15T15:29:17.536975Z",
     "iopub.status.idle": "2022-12-15T15:29:17.556100Z",
     "shell.execute_reply": "2022-12-15T15:29:17.555293Z"
    },
    "id": "XezKYpNDFQFp",
    "outputId": "39f41086-f72f-4ba6-db8c-e8da5ab16786",
    "papermill": {
     "duration": 0.030952,
     "end_time": "2022-12-15T15:29:17.557783",
     "exception": false,
     "start_time": "2022-12-15T15:29:17.526831",
     "status": "completed"
    },
    "tags": []
   },
   "outputs": [
    {
     "data": {
      "text/html": [
       "<div>\n",
       "<style scoped>\n",
       "    .dataframe tbody tr th:only-of-type {\n",
       "        vertical-align: middle;\n",
       "    }\n",
       "\n",
       "    .dataframe tbody tr th {\n",
       "        vertical-align: top;\n",
       "    }\n",
       "\n",
       "    .dataframe thead th {\n",
       "        text-align: right;\n",
       "    }\n",
       "</style>\n",
       "<table border=\"1\" class=\"dataframe\">\n",
       "  <thead>\n",
       "    <tr style=\"text-align: right;\">\n",
       "      <th></th>\n",
       "      <th>Date</th>\n",
       "      <th>Abertura</th>\n",
       "      <th>Fechamento</th>\n",
       "    </tr>\n",
       "  </thead>\n",
       "  <tbody>\n",
       "    <tr>\n",
       "      <th>0</th>\n",
       "      <td>2022-01-03 00:00:00-03:00</td>\n",
       "      <td>7.897967</td>\n",
       "      <td>7.796166</td>\n",
       "    </tr>\n",
       "    <tr>\n",
       "      <th>1</th>\n",
       "      <td>2022-01-04 00:00:00-03:00</td>\n",
       "      <td>7.804649</td>\n",
       "      <td>7.838582</td>\n",
       "    </tr>\n",
       "    <tr>\n",
       "      <th>2</th>\n",
       "      <td>2022-01-05 00:00:00-03:00</td>\n",
       "      <td>7.957350</td>\n",
       "      <td>7.830101</td>\n",
       "    </tr>\n",
       "    <tr>\n",
       "      <th>3</th>\n",
       "      <td>2022-01-06 00:00:00-03:00</td>\n",
       "      <td>7.830101</td>\n",
       "      <td>7.804650</td>\n",
       "    </tr>\n",
       "    <tr>\n",
       "      <th>4</th>\n",
       "      <td>2022-01-07 00:00:00-03:00</td>\n",
       "      <td>7.804649</td>\n",
       "      <td>7.991282</td>\n",
       "    </tr>\n",
       "    <tr>\n",
       "      <th>...</th>\n",
       "      <td>...</td>\n",
       "      <td>...</td>\n",
       "      <td>...</td>\n",
       "    </tr>\n",
       "    <tr>\n",
       "      <th>234</th>\n",
       "      <td>2022-12-07 00:00:00-03:00</td>\n",
       "      <td>8.754706</td>\n",
       "      <td>8.813463</td>\n",
       "    </tr>\n",
       "    <tr>\n",
       "      <th>235</th>\n",
       "      <td>2022-12-08 00:00:00-03:00</td>\n",
       "      <td>8.813464</td>\n",
       "      <td>8.764500</td>\n",
       "    </tr>\n",
       "    <tr>\n",
       "      <th>236</th>\n",
       "      <td>2022-12-09 00:00:00-03:00</td>\n",
       "      <td>8.880000</td>\n",
       "      <td>8.680000</td>\n",
       "    </tr>\n",
       "    <tr>\n",
       "      <th>237</th>\n",
       "      <td>2022-12-12 00:00:00-03:00</td>\n",
       "      <td>8.680000</td>\n",
       "      <td>8.630000</td>\n",
       "    </tr>\n",
       "    <tr>\n",
       "      <th>238</th>\n",
       "      <td>2022-12-13 00:00:00-03:00</td>\n",
       "      <td>8.700000</td>\n",
       "      <td>8.490000</td>\n",
       "    </tr>\n",
       "  </tbody>\n",
       "</table>\n",
       "<p>239 rows × 3 columns</p>\n",
       "</div>"
      ],
      "text/plain": [
       "                         Date  Abertura  Fechamento\n",
       "0   2022-01-03 00:00:00-03:00  7.897967    7.796166\n",
       "1   2022-01-04 00:00:00-03:00  7.804649    7.838582\n",
       "2   2022-01-05 00:00:00-03:00  7.957350    7.830101\n",
       "3   2022-01-06 00:00:00-03:00  7.830101    7.804650\n",
       "4   2022-01-07 00:00:00-03:00  7.804649    7.991282\n",
       "..                        ...       ...         ...\n",
       "234 2022-12-07 00:00:00-03:00  8.754706    8.813463\n",
       "235 2022-12-08 00:00:00-03:00  8.813464    8.764500\n",
       "236 2022-12-09 00:00:00-03:00  8.880000    8.680000\n",
       "237 2022-12-12 00:00:00-03:00  8.680000    8.630000\n",
       "238 2022-12-13 00:00:00-03:00  8.700000    8.490000\n",
       "\n",
       "[239 rows x 3 columns]"
      ]
     },
     "metadata": {},
     "output_type": "display_data"
    }
   ],
   "source": [
    "columns_name = ['Abertura', 'Alta', 'Baixa', 'Fechamento', 'Volume', 'Dividendos', 'Desdobramentos']\n",
    "df_itsa3.columns = columns_name\n",
    "df_itsa3.reset_index(inplace=True)\n",
    "df_itsa3.drop(['Alta', 'Baixa', 'Volume', 'Dividendos', 'Desdobramentos'], axis=1, inplace=True)\n",
    "display(df_itsa3)"
   ]
  },
  {
   "cell_type": "code",
   "execution_count": 5,
   "id": "c8112c7c",
   "metadata": {
    "execution": {
     "iopub.execute_input": "2022-12-15T15:29:17.577623Z",
     "iopub.status.busy": "2022-12-15T15:29:17.576943Z",
     "iopub.status.idle": "2022-12-15T15:29:17.589915Z",
     "shell.execute_reply": "2022-12-15T15:29:17.589055Z"
    },
    "id": "6eujIXDqIUPn",
    "outputId": "b355ec3c-31ba-4653-ff8a-70d16a5f59ac",
    "papermill": {
     "duration": 0.024597,
     "end_time": "2022-12-15T15:29:17.591658",
     "exception": false,
     "start_time": "2022-12-15T15:29:17.567061",
     "status": "completed"
    },
    "tags": []
   },
   "outputs": [
    {
     "data": {
      "text/html": [
       "<div>\n",
       "<style scoped>\n",
       "    .dataframe tbody tr th:only-of-type {\n",
       "        vertical-align: middle;\n",
       "    }\n",
       "\n",
       "    .dataframe tbody tr th {\n",
       "        vertical-align: top;\n",
       "    }\n",
       "\n",
       "    .dataframe thead th {\n",
       "        text-align: right;\n",
       "    }\n",
       "</style>\n",
       "<table border=\"1\" class=\"dataframe\">\n",
       "  <thead>\n",
       "    <tr style=\"text-align: right;\">\n",
       "      <th></th>\n",
       "      <th>Date</th>\n",
       "      <th>Abertura</th>\n",
       "      <th>Fechamento</th>\n",
       "    </tr>\n",
       "  </thead>\n",
       "  <tbody>\n",
       "    <tr>\n",
       "      <th>0</th>\n",
       "      <td>2022-01-03 00:00:00-03:00</td>\n",
       "      <td>7.635642</td>\n",
       "      <td>7.635642</td>\n",
       "    </tr>\n",
       "    <tr>\n",
       "      <th>1</th>\n",
       "      <td>2022-01-04 00:00:00-03:00</td>\n",
       "      <td>7.644106</td>\n",
       "      <td>7.694898</td>\n",
       "    </tr>\n",
       "    <tr>\n",
       "      <th>2</th>\n",
       "      <td>2022-01-05 00:00:00-03:00</td>\n",
       "      <td>7.661036</td>\n",
       "      <td>7.610244</td>\n",
       "    </tr>\n",
       "    <tr>\n",
       "      <th>3</th>\n",
       "      <td>2022-01-06 00:00:00-03:00</td>\n",
       "      <td>7.601780</td>\n",
       "      <td>7.677967</td>\n",
       "    </tr>\n",
       "    <tr>\n",
       "      <th>4</th>\n",
       "      <td>2022-01-07 00:00:00-03:00</td>\n",
       "      <td>7.677968</td>\n",
       "      <td>7.771086</td>\n",
       "    </tr>\n",
       "    <tr>\n",
       "      <th>...</th>\n",
       "      <td>...</td>\n",
       "      <td>...</td>\n",
       "      <td>...</td>\n",
       "    </tr>\n",
       "    <tr>\n",
       "      <th>234</th>\n",
       "      <td>2022-12-07 00:00:00-03:00</td>\n",
       "      <td>8.448517</td>\n",
       "      <td>8.419181</td>\n",
       "    </tr>\n",
       "    <tr>\n",
       "      <th>235</th>\n",
       "      <td>2022-12-08 00:00:00-03:00</td>\n",
       "      <td>8.389846</td>\n",
       "      <td>8.184500</td>\n",
       "    </tr>\n",
       "    <tr>\n",
       "      <th>236</th>\n",
       "      <td>2022-12-09 00:00:00-03:00</td>\n",
       "      <td>8.230000</td>\n",
       "      <td>8.170000</td>\n",
       "    </tr>\n",
       "    <tr>\n",
       "      <th>237</th>\n",
       "      <td>2022-12-12 00:00:00-03:00</td>\n",
       "      <td>8.160000</td>\n",
       "      <td>8.110000</td>\n",
       "    </tr>\n",
       "    <tr>\n",
       "      <th>238</th>\n",
       "      <td>2022-12-13 00:00:00-03:00</td>\n",
       "      <td>8.130000</td>\n",
       "      <td>7.840000</td>\n",
       "    </tr>\n",
       "  </tbody>\n",
       "</table>\n",
       "<p>239 rows × 3 columns</p>\n",
       "</div>"
      ],
      "text/plain": [
       "                         Date  Abertura  Fechamento\n",
       "0   2022-01-03 00:00:00-03:00  7.635642    7.635642\n",
       "1   2022-01-04 00:00:00-03:00  7.644106    7.694898\n",
       "2   2022-01-05 00:00:00-03:00  7.661036    7.610244\n",
       "3   2022-01-06 00:00:00-03:00  7.601780    7.677967\n",
       "4   2022-01-07 00:00:00-03:00  7.677968    7.771086\n",
       "..                        ...       ...         ...\n",
       "234 2022-12-07 00:00:00-03:00  8.448517    8.419181\n",
       "235 2022-12-08 00:00:00-03:00  8.389846    8.184500\n",
       "236 2022-12-09 00:00:00-03:00  8.230000    8.170000\n",
       "237 2022-12-12 00:00:00-03:00  8.160000    8.110000\n",
       "238 2022-12-13 00:00:00-03:00  8.130000    7.840000\n",
       "\n",
       "[239 rows x 3 columns]"
      ]
     },
     "metadata": {},
     "output_type": "display_data"
    }
   ],
   "source": [
    "df_itsa4.columns = columns_name\n",
    "df_itsa4.reset_index(inplace=True)\n",
    "df_itsa4.drop(['Alta', 'Baixa', 'Volume', 'Dividendos', 'Desdobramentos'], axis=1, inplace=True)\n",
    "display(df_itsa4)"
   ]
  },
  {
   "cell_type": "markdown",
   "id": "1afd64e8",
   "metadata": {
    "id": "DEyhr1adxAlY",
    "papermill": {
     "duration": 0.00928,
     "end_time": "2022-12-15T15:29:17.611004",
     "exception": false,
     "start_time": "2022-12-15T15:29:17.601724",
     "status": "completed"
    },
    "tags": []
   },
   "source": [
    "## Unindo os dois DataFrames em um novo"
   ]
  },
  {
   "cell_type": "code",
   "execution_count": 6,
   "id": "a2e434cf",
   "metadata": {
    "execution": {
     "iopub.execute_input": "2022-12-15T15:29:17.632485Z",
     "iopub.status.busy": "2022-12-15T15:29:17.631970Z",
     "iopub.status.idle": "2022-12-15T15:29:17.666656Z",
     "shell.execute_reply": "2022-12-15T15:29:17.665940Z"
    },
    "id": "uIxP5-CTOLA9",
    "outputId": "f0b067da-7df0-46d5-8dda-4e47f5836d4e",
    "papermill": {
     "duration": 0.04759,
     "end_time": "2022-12-15T15:29:17.668369",
     "exception": false,
     "start_time": "2022-12-15T15:29:17.620779",
     "status": "completed"
    },
    "tags": []
   },
   "outputs": [
    {
     "data": {
      "text/html": [
       "<div>\n",
       "<style scoped>\n",
       "    .dataframe tbody tr th:only-of-type {\n",
       "        vertical-align: middle;\n",
       "    }\n",
       "\n",
       "    .dataframe tbody tr th {\n",
       "        vertical-align: top;\n",
       "    }\n",
       "\n",
       "    .dataframe thead th {\n",
       "        text-align: right;\n",
       "    }\n",
       "</style>\n",
       "<table border=\"1\" class=\"dataframe\">\n",
       "  <thead>\n",
       "    <tr style=\"text-align: right;\">\n",
       "      <th></th>\n",
       "      <th>Data</th>\n",
       "      <th>Abertura ITSA3</th>\n",
       "      <th>Fechamento ITSA3</th>\n",
       "      <th>Abertura ITSA4</th>\n",
       "      <th>Fechamento ITSA4</th>\n",
       "      <th>Diferença Abertura</th>\n",
       "      <th>Diferença Fechamento</th>\n",
       "    </tr>\n",
       "  </thead>\n",
       "  <tbody>\n",
       "    <tr>\n",
       "      <th>0</th>\n",
       "      <td>2022-01-03 00:00:00-03:00</td>\n",
       "      <td>7.897967</td>\n",
       "      <td>7.796166</td>\n",
       "      <td>7.635642</td>\n",
       "      <td>7.635642</td>\n",
       "      <td>0.262325</td>\n",
       "      <td>0.160525</td>\n",
       "    </tr>\n",
       "    <tr>\n",
       "      <th>1</th>\n",
       "      <td>2022-01-04 00:00:00-03:00</td>\n",
       "      <td>7.804649</td>\n",
       "      <td>7.838582</td>\n",
       "      <td>7.644106</td>\n",
       "      <td>7.694898</td>\n",
       "      <td>0.160543</td>\n",
       "      <td>0.143684</td>\n",
       "    </tr>\n",
       "    <tr>\n",
       "      <th>2</th>\n",
       "      <td>2022-01-05 00:00:00-03:00</td>\n",
       "      <td>7.957350</td>\n",
       "      <td>7.830101</td>\n",
       "      <td>7.661036</td>\n",
       "      <td>7.610244</td>\n",
       "      <td>0.296315</td>\n",
       "      <td>0.219857</td>\n",
       "    </tr>\n",
       "    <tr>\n",
       "      <th>3</th>\n",
       "      <td>2022-01-06 00:00:00-03:00</td>\n",
       "      <td>7.830101</td>\n",
       "      <td>7.804650</td>\n",
       "      <td>7.601780</td>\n",
       "      <td>7.677967</td>\n",
       "      <td>0.228321</td>\n",
       "      <td>0.126684</td>\n",
       "    </tr>\n",
       "    <tr>\n",
       "      <th>4</th>\n",
       "      <td>2022-01-07 00:00:00-03:00</td>\n",
       "      <td>7.804649</td>\n",
       "      <td>7.991282</td>\n",
       "      <td>7.677968</td>\n",
       "      <td>7.771086</td>\n",
       "      <td>0.126681</td>\n",
       "      <td>0.220196</td>\n",
       "    </tr>\n",
       "    <tr>\n",
       "      <th>...</th>\n",
       "      <td>...</td>\n",
       "      <td>...</td>\n",
       "      <td>...</td>\n",
       "      <td>...</td>\n",
       "      <td>...</td>\n",
       "      <td>...</td>\n",
       "      <td>...</td>\n",
       "    </tr>\n",
       "    <tr>\n",
       "      <th>234</th>\n",
       "      <td>2022-12-07 00:00:00-03:00</td>\n",
       "      <td>8.754706</td>\n",
       "      <td>8.813463</td>\n",
       "      <td>8.448517</td>\n",
       "      <td>8.419181</td>\n",
       "      <td>0.306190</td>\n",
       "      <td>0.394282</td>\n",
       "    </tr>\n",
       "    <tr>\n",
       "      <th>235</th>\n",
       "      <td>2022-12-08 00:00:00-03:00</td>\n",
       "      <td>8.813464</td>\n",
       "      <td>8.764500</td>\n",
       "      <td>8.389846</td>\n",
       "      <td>8.184500</td>\n",
       "      <td>0.423618</td>\n",
       "      <td>0.580000</td>\n",
       "    </tr>\n",
       "    <tr>\n",
       "      <th>236</th>\n",
       "      <td>2022-12-09 00:00:00-03:00</td>\n",
       "      <td>8.880000</td>\n",
       "      <td>8.680000</td>\n",
       "      <td>8.230000</td>\n",
       "      <td>8.170000</td>\n",
       "      <td>0.650001</td>\n",
       "      <td>0.510000</td>\n",
       "    </tr>\n",
       "    <tr>\n",
       "      <th>237</th>\n",
       "      <td>2022-12-12 00:00:00-03:00</td>\n",
       "      <td>8.680000</td>\n",
       "      <td>8.630000</td>\n",
       "      <td>8.160000</td>\n",
       "      <td>8.110000</td>\n",
       "      <td>0.520000</td>\n",
       "      <td>0.520000</td>\n",
       "    </tr>\n",
       "    <tr>\n",
       "      <th>238</th>\n",
       "      <td>2022-12-13 00:00:00-03:00</td>\n",
       "      <td>8.700000</td>\n",
       "      <td>8.490000</td>\n",
       "      <td>8.130000</td>\n",
       "      <td>7.840000</td>\n",
       "      <td>0.570000</td>\n",
       "      <td>0.650000</td>\n",
       "    </tr>\n",
       "  </tbody>\n",
       "</table>\n",
       "<p>239 rows × 7 columns</p>\n",
       "</div>"
      ],
      "text/plain": [
       "                         Data  Abertura ITSA3  Fechamento ITSA3  \\\n",
       "0   2022-01-03 00:00:00-03:00        7.897967          7.796166   \n",
       "1   2022-01-04 00:00:00-03:00        7.804649          7.838582   \n",
       "2   2022-01-05 00:00:00-03:00        7.957350          7.830101   \n",
       "3   2022-01-06 00:00:00-03:00        7.830101          7.804650   \n",
       "4   2022-01-07 00:00:00-03:00        7.804649          7.991282   \n",
       "..                        ...             ...               ...   \n",
       "234 2022-12-07 00:00:00-03:00        8.754706          8.813463   \n",
       "235 2022-12-08 00:00:00-03:00        8.813464          8.764500   \n",
       "236 2022-12-09 00:00:00-03:00        8.880000          8.680000   \n",
       "237 2022-12-12 00:00:00-03:00        8.680000          8.630000   \n",
       "238 2022-12-13 00:00:00-03:00        8.700000          8.490000   \n",
       "\n",
       "     Abertura ITSA4  Fechamento ITSA4  Diferença Abertura  \\\n",
       "0          7.635642          7.635642            0.262325   \n",
       "1          7.644106          7.694898            0.160543   \n",
       "2          7.661036          7.610244            0.296315   \n",
       "3          7.601780          7.677967            0.228321   \n",
       "4          7.677968          7.771086            0.126681   \n",
       "..              ...               ...                 ...   \n",
       "234        8.448517          8.419181            0.306190   \n",
       "235        8.389846          8.184500            0.423618   \n",
       "236        8.230000          8.170000            0.650001   \n",
       "237        8.160000          8.110000            0.520000   \n",
       "238        8.130000          7.840000            0.570000   \n",
       "\n",
       "     Diferença Fechamento  \n",
       "0                0.160525  \n",
       "1                0.143684  \n",
       "2                0.219857  \n",
       "3                0.126684  \n",
       "4                0.220196  \n",
       "..                    ...  \n",
       "234              0.394282  \n",
       "235              0.580000  \n",
       "236              0.510000  \n",
       "237              0.520000  \n",
       "238              0.650000  \n",
       "\n",
       "[239 rows x 7 columns]"
      ]
     },
     "execution_count": 6,
     "metadata": {},
     "output_type": "execute_result"
    }
   ],
   "source": [
    "df_itsa = pd.merge(df_itsa3, df_itsa4, how = 'left', on = 'Date')\n",
    "final_columns = ['Data', 'Abertura ITSA3', 'Fechamento ITSA3', 'Abertura ITSA4', 'Fechamento ITSA4']\n",
    "df_itsa.columns = final_columns\n",
    "def sub(a,b):\n",
    "  return b-a\n",
    "\n",
    "df_itsa['Diferença Abertura'] = df_itsa.apply(lambda f: sub(f['Abertura ITSA4'], f['Abertura ITSA3']), axis=1)\n",
    "df_itsa['Diferença Fechamento'] = df_itsa.apply(lambda f: sub(f['Fechamento ITSA4'], f['Fechamento ITSA3']), axis=1)\n",
    "df_itsa"
   ]
  },
  {
   "cell_type": "markdown",
   "id": "d4497f71",
   "metadata": {
    "papermill": {
     "duration": 0.010475,
     "end_time": "2022-12-15T15:29:17.688828",
     "exception": false,
     "start_time": "2022-12-15T15:29:17.678353",
     "status": "completed"
    },
    "tags": []
   },
   "source": [
    "### Exportando os dados para uma planilha do excel."
   ]
  },
  {
   "cell_type": "code",
   "execution_count": 7,
   "id": "86c7e8a5",
   "metadata": {
    "execution": {
     "iopub.execute_input": "2022-12-15T15:29:17.711357Z",
     "iopub.status.busy": "2022-12-15T15:29:17.710829Z",
     "iopub.status.idle": "2022-12-15T15:29:17.714830Z",
     "shell.execute_reply": "2022-12-15T15:29:17.714052Z"
    },
    "id": "sXFqXld7MJKi",
    "papermill": {
     "duration": 0.017145,
     "end_time": "2022-12-15T15:29:17.716675",
     "exception": false,
     "start_time": "2022-12-15T15:29:17.699530",
     "status": "completed"
    },
    "tags": []
   },
   "outputs": [],
   "source": [
    "# !pip install openpyxl\n",
    "# import openpyxl\n",
    "# with pd.ExcelWriter('spread-itsa.xlsx') as writer:\n",
    "#   df_itsa3.to_excel(writer, sheet_name='ITSA3')\n",
    "#   df_itsa4.to_excel(writer, sheet_name='ITSA4')\n",
    "#   df_itsa.to_excel(writer, sheet_name='SPREAD')"
   ]
  },
  {
   "cell_type": "markdown",
   "id": "59624d4a",
   "metadata": {
    "id": "RUG2vMN_wl5r",
    "papermill": {
     "duration": 0.010072,
     "end_time": "2022-12-15T15:29:17.737137",
     "exception": false,
     "start_time": "2022-12-15T15:29:17.727065",
     "status": "completed"
    },
    "tags": []
   },
   "source": [
    "## *Plotando os gráficos*"
   ]
  },
  {
   "cell_type": "markdown",
   "id": "c45fdad2",
   "metadata": {
    "id": "Vd8IlC-MxUXt",
    "papermill": {
     "duration": 0.009998,
     "end_time": "2022-12-15T15:29:17.757485",
     "exception": false,
     "start_time": "2022-12-15T15:29:17.747487",
     "status": "completed"
    },
    "tags": []
   },
   "source": [
    "### Gráfico com o matplotlib"
   ]
  },
  {
   "cell_type": "code",
   "execution_count": 8,
   "id": "a72a07a2",
   "metadata": {
    "execution": {
     "iopub.execute_input": "2022-12-15T15:29:17.779333Z",
     "iopub.status.busy": "2022-12-15T15:29:17.779028Z",
     "iopub.status.idle": "2022-12-15T15:29:18.395750Z",
     "shell.execute_reply": "2022-12-15T15:29:18.395065Z"
    },
    "id": "ucGMevB4T4W1",
    "outputId": "21fdc482-edc2-43f7-95dc-f0021d79abeb",
    "papermill": {
     "duration": 0.629787,
     "end_time": "2022-12-15T15:29:18.397514",
     "exception": false,
     "start_time": "2022-12-15T15:29:17.767727",
     "status": "completed"
    },
    "tags": []
   },
   "outputs": [
    {
     "data": {
      "image/png": "[encoded data removed]",
      "text/plain": [
       "<Figure size 432x288 with 1 Axes>"
      ]
     },
     "metadata": {
      "needs_background": "light"
     },
     "output_type": "display_data"
    }
   ],
   "source": [
    "import matplotlib.pyplot as plt\n",
    "from matplotlib.pyplot import figure\n",
    "\n",
    "\n",
    "dados_x = df_itsa[['Data']]\n",
    "dados_x.set_index('Data')\n",
    "# dados_y = df_itsa[['Fechamento ITSA3']], df_itsa[['Fechamento ITSA4']], df_itsa[['Diferença Fechamento']]\n",
    "dados_y = df_itsa\n",
    "dados_y = dados_y.drop(['Data', 'Abertura ITSA3', 'Abertura ITSA4', 'Diferença Abertura'], axis=1)\n",
    "dados_y.set_index('Fechamento ITSA3')\n",
    "dados_diff = dados_y['Diferença Fechamento']\n",
    "dados_diff = pd.DataFrame(dados_diff)\n",
    "dados_diff.set_index('Diferença Fechamento')\n",
    "plt.plot(dados_x, dados_y)\n",
    "\n",
    "plt.legend(['ITSA3', 'ITSA4', 'Diferença'])\n",
    "plt.title('Spread ITSA3 x ITSA4 (Fechamento)')\n",
    "plt.xlabel('Meses')\n",
    "plt.ylabel('Cotação')\n",
    "plt.yticks([0,1,7, 8, 9,10], ['R$0', 'R$1', 'R$7', 'R$8', 'R$9', 'R$10'])\n",
    "# datas = ['2022-01', '2022-02', '2022-03', '2022-04', '2022-05','2022-06','2022-07']\n",
    "# plt.xticks(datasf, ['Jan','Fev', 'Mar','Abr','Mai','Jun','Jul'])\n",
    "plt.figure.dpi=100\n",
    "plt.style.use('seaborn-talk')\n",
    "plt.rcParams[\"figure.figsize\"] = (25, 5.5)\n",
    "plt.rcParams[\"legend.loc\"] = 'center left'\n",
    "plt.grid()\n",
    "plt.savefig('ITSA.png', dpi=250)\n",
    "plt.savefig('ITSA.pdf', dpi=250)\n",
    "plt.show()"
   ]
  },
  {
   "cell_type": "markdown",
   "id": "f534ca4c",
   "metadata": {
    "id": "hfh6bN0CxbH5",
    "papermill": {
     "duration": 0.013022,
     "end_time": "2022-12-15T15:29:18.423970",
     "exception": false,
     "start_time": "2022-12-15T15:29:18.410948",
     "status": "completed"
    },
    "tags": []
   },
   "source": [
    "### Gráficos com o Plotly"
   ]
  },
  {
   "cell_type": "code",
   "execution_count": 9,
   "id": "10687593",
   "metadata": {
    "execution": {
     "iopub.execute_input": "2022-12-15T15:29:18.452006Z",
     "iopub.status.busy": "2022-12-15T15:29:18.451367Z",
     "iopub.status.idle": "2022-12-15T15:29:19.776774Z",
     "shell.execute_reply": "2022-12-15T15:29:19.776020Z"
    },
    "id": "STH2-1cqs0DI",
    "outputId": "e137ae8a-a085-4daa-8397-66e669764208",
    "papermill": {
     "duration": 1.341444,
     "end_time": "2022-12-15T15:29:19.778601",
     "exception": false,
     "start_time": "2022-12-15T15:29:18.437157",
     "status": "completed"
    },
    "tags": []
   },
   "outputs": [
    {
     "data": {
      "text/html": [
       "        <script type=\"text/javascript\">\n",
       "        window.PlotlyConfig = {MathJaxConfig: 'local'};\n",
       "        if (window.MathJax && window.MathJax.Hub && window.MathJax.Hub.Config) {window.MathJax.Hub.Config({SVG: {font: \"STIX-Web\"}});}\n",
       "        if (typeof require !== 'undefined') {\n",
       "        require.undef(\"plotly\");\n",
       "        requirejs.config({\n",
       "            paths: {\n",
       "                'plotly': ['https://cdn.plot.ly/plotly-2.12.1.min']\n",
       "            }\n",
       "        });\n",
       "        require(['plotly'], function(Plotly) {\n",
       "            window._Plotly = Plotly;\n",
       "        });\n",
       "        }\n",
       "        </script>\n",
       "        "
      ]
     },
     "metadata": {},
     "output_type": "display_data"
    },
    {
     "data": {
      "text/html": [
       "<div>                            <div id=\"b7bfbba2-75b2-474d-bc7f-b9977c79dc1e\" class=\"plotly-graph-div\" style=\"height:525px; width:100%;\"></div>            <script type=\"text/javascript\">                require([\"plotly\"], function(Plotly) {                    window.PLOTLYENV=window.PLOTLYENV || {};                                    if (document.getElementById(\"b7bfbba2-75b2-474d-bc7f-b9977c79dc1e\")) {                    Plotly.newPlot(                        \"b7bfbba2-75b2-474d-bc7f-b9977c79dc1e\",                        [{\"line\":{\"shape\":\"spline\"},\"name\":\"ITSA3\",\"x\":[\"2022-01-03T00:00:00-03:00\",\"2022-01-04T00:00:00-03:00\",\"2022-01-05T00:00:00-03:00\",\"2022-01-06T00:00:00-03:00\",\"2022-01-07T00:00:00-03:00\",\"2022-01-10T00:00:00-03:00\",\"2022-01-11T00:00:00-03:00\",\"2022-01-12T00:00:00-03:00\",\"2022-01-13T00:00:00-03:00\",\"2022-01-14T00:00:00-03:00\",\"2022-01-17T00:00:00-03:00\",\"2022-01-18T00:00:00-03:00\",\"2022-01-19T00:00:00-03:00\",\"2022-01-20T00:00:00-03:00\",\"2022-01-21T00:00:00-03:00\",\"2022-01-24T00:00:00-03:00\",\"2022-01-25T00:00:00-03:00\",\"2022-01-26T00:00:00-03:00\",\"2022-01-27T00:00:00-03:00\",\"2022-01-28T00:00:00-03:00\",\"2022-01-31T00:00:00-03:00\",\"2022-02-01T00:00:00-03:00\",\"2022-02-02T00:00:00-03:00\",\"2022-02-03T00:00:00-03:00\",\"2022-02-04T00:00:00-03:00\",\"2022-02-07T00:00:00-03:00\",\"2022-02-08T00:00:00-03:00\",\"2022-02-09T00:00:00-03:00\",\"2022-02-10T00:00:00-03:00\",\"2022-02-11T00:00:00-03:00\",\"2022-02-14T00:00:00-03:00\",\"2022-02-15T00:00:00-03:00\",\"2022-02-16T00:00:00-03:00\",\"2022-02-17T00:00:00-03:00\",\"2022-02-18T00:00:00-03:00\",\"2022-02-21T00:00:00-03:00\",\"2022-02-22T00:00:00-03:00\",\"2022-02-23T00:00:00-03:00\",\"2022-02-24T00:00:00-03:00\",\"2022-02-25T00:00:00-03:00\",\"2022-03-01T00:00:00-03:00\",\"2022-03-02T00:00:00-03:00\",\"2022-03-03T00:00:00-03:00\",\"2022-03-04T00:00:00-03:00\",\"2022-03-07T00:00:00-03:00\",\"2022-03-08T00:00:00-03:00\",\"2022-03-09T00:00:00-03:00\",\"2022-03-10T00:00:00-03:00\",\"2022-03-11T00:00:00-03:00\",\"2022-03-14T00:00:00-03:00\",\"2022-03-15T00:00:00-03:00\",\"2022-03-16T00:00:00-03:00\",\"2022-03-17T00:00:00-03:00\",\"2022-03-18T00:00:00-03:00\",\"2022-03-21T00:00:00-03:00\",\"2022-03-22T00:00:00-03:00\",\"2022-03-23T00:00:00-03:00\",\"2022-03-24T00:00:00-03:00\",\"2022-03-25T00:00:00-03:00\",\"2022-03-28T00:00:00-03:00\",\"2022-03-29T00:00:00-03:00\",\"2022-03-30T00:00:00-03:00\",\"2022-03-31T00:00:00-03:00\",\"2022-04-01T00:00:00-03:00\",\"2022-04-04T00:00:00-03:00\",\"2022-04-05T00:00:00-03:00\",\"2022-04-06T00:00:00-03:00\",\"2022-04-07T00:00:00-03:00\",\"2022-04-08T00:00:00-03:00\",\"2022-04-11T00:00:00-03:00\",\"2022-04-12T00:00:00-03:00\",\"2022-04-13T00:00:00-03:00\",\"2022-04-14T00:00:00-03:00\",\"2022-04-18T00:00:00-03:00\",\"2022-04-19T00:00:00-03:00\",\"2022-04-20T00:00:00-03:00\",\"2022-04-22T00:00:00-03:00\",\"2022-04-25T00:00:00-03:00\",\"2022-04-26T00:00:00-03:00\",\"2022-04-27T00:00:00-03:00\",\"2022-04-28T00:00:00-03:00\",\"2022-04-29T00:00:00-03:00\",\"2022-05-02T00:00:00-03:00\",\"2022-05-03T00:00:00-03:00\",\"2022-05-04T00:00:00-03:00\",\"2022-05-05T00:00:00-03:00\",\"2022-05-06T00:00:00-03:00\",\"2022-05-09T00:00:00-03:00\",\"2022-05-10T00:00:00-03:00\",\"2022-05-11T00:00:00-03:00\",\"2022-05-12T00:00:00-03:00\",\"2022-05-13T00:00:00-03:00\",\"2022-05-16T00:00:00-03:00\",\"2022-05-17T00:00:00-03:00\",\"2022-05-18T00:00:00-03:00\",\"2022-05-19T00:00:00-03:00\",\"2022-05-20T00:00:00-03:00\",\"2022-05-23T00:00:00-03:00\",\"2022-05-24T00:00:00-03:00\",\"2022-05-25T00:00:00-03:00\",\"2022-05-26T00:00:00-03:00\",\"2022-05-27T00:00:00-03:00\",\"2022-05-30T00:00:00-03:00\",\"2022-05-31T00:00:00-03:00\",\"2022-06-01T00:00:00-03:00\",\"2022-06-02T00:00:00-03:00\",\"2022-06-03T00:00:00-03:00\",\"2022-06-06T00:00:00-03:00\",\"2022-06-07T00:00:00-03:00\",\"2022-06-08T00:00:00-03:00\",\"2022-06-09T00:00:00-03:00\",\"2022-06-10T00:00:00-03:00\",\"2022-06-13T00:00:00-03:00\",\"2022-06-14T00:00:00-03:00\",\"2022-06-15T00:00:00-03:00\",\"2022-06-17T00:00:00-03:00\",\"2022-06-20T00:00:00-03:00\",\"2022-06-21T00:00:00-03:00\",\"2022-06-22T00:00:00-03:00\",\"2022-06-23T00:00:00-03:00\",\"2022-06-24T00:00:00-03:00\",\"2022-06-27T00:00:00-03:00\",\"2022-06-28T00:00:00-03:00\",\"2022-06-29T00:00:00-03:00\",\"2022-06-30T00:00:00-03:00\",\"2022-07-01T00:00:00-03:00\",\"2022-07-04T00:00:00-03:00\",\"2022-07-05T00:00:00-03:00\",\"2022-07-06T00:00:00-03:00\",\"2022-07-07T00:00:00-03:00\",\"2022-07-08T00:00:00-03:00\",\"2022-07-11T00:00:00-03:00\",\"2022-07-12T00:00:00-03:00\",\"2022-07-13T00:00:00-03:00\",\"2022-07-14T00:00:00-03:00\",\"2022-07-15T00:00:00-03:00\",\"2022-07-18T00:00:00-03:00\",\"2022-07-19T00:00:00-03:00\",\"2022-07-20T00:00:00-03:00\",\"2022-07-21T00:00:00-03:00\",\"2022-07-22T00:00:00-03:00\",\"2022-07-25T00:00:00-03:00\",\"2022-07-26T00:00:00-03:00\",\"2022-07-27T00:00:00-03:00\",\"2022-07-28T00:00:00-03:00\",\"2022-07-29T00:00:00-03:00\",\"2022-08-01T00:00:00-03:00\",\"2022-08-02T00:00:00-03:00\",\"2022-08-03T00:00:00-03:00\",\"2022-08-04T00:00:00-03:00\",\"2022-08-05T00:00:00-03:00\",\"2022-08-08T00:00:00-03:00\",\"2022-08-09T00:00:00-03:00\",\"2022-08-10T00:00:00-03:00\",\"2022-08-11T00:00:00-03:00\",\"2022-08-12T00:00:00-03:00\",\"2022-08-15T00:00:00-03:00\",\"2022-08-16T00:00:00-03:00\",\"2022-08-17T00:00:00-03:00\",\"2022-08-18T00:00:00-03:00\",\"2022-08-19T00:00:00-03:00\",\"2022-08-22T00:00:00-03:00\",\"2022-08-23T00:00:00-03:00\",\"2022-08-24T00:00:00-03:00\",\"2022-08-25T00:00:00-03:00\",\"2022-08-26T00:00:00-03:00\",\"2022-08-29T00:00:00-03:00\",\"2022-08-30T00:00:00-03:00\",\"2022-08-31T00:00:00-03:00\",\"2022-09-01T00:00:00-03:00\",\"2022-09-02T00:00:00-03:00\",\"2022-09-05T00:00:00-03:00\",\"2022-09-06T00:00:00-03:00\",\"2022-09-08T00:00:00-03:00\",\"2022-09-09T00:00:00-03:00\",\"2022-09-12T00:00:00-03:00\",\"2022-09-13T00:00:00-03:00\",\"2022-09-14T00:00:00-03:00\",\"2022-09-15T00:00:00-03:00\",\"2022-09-16T00:00:00-03:00\",\"2022-09-19T00:00:00-03:00\",\"2022-09-20T00:00:00-03:00\",\"2022-09-21T00:00:00-03:00\",\"2022-09-22T00:00:00-03:00\",\"2022-09-23T00:00:00-03:00\",\"2022-09-26T00:00:00-03:00\",\"2022-09-27T00:00:00-03:00\",\"2022-09-28T00:00:00-03:00\",\"2022-09-29T00:00:00-03:00\",\"2022-09-30T00:00:00-03:00\",\"2022-10-03T00:00:00-03:00\",\"2022-10-04T00:00:00-03:00\",\"2022-10-05T00:00:00-03:00\",\"2022-10-06T00:00:00-03:00\",\"2022-10-07T00:00:00-03:00\",\"2022-10-10T00:00:00-03:00\",\"2022-10-11T00:00:00-03:00\",\"2022-10-13T00:00:00-03:00\",\"2022-10-14T00:00:00-03:00\",\"2022-10-17T00:00:00-03:00\",\"2022-10-18T00:00:00-03:00\",\"2022-10-19T00:00:00-03:00\",\"2022-10-20T00:00:00-03:00\",\"2022-10-21T00:00:00-03:00\",\"2022-10-24T00:00:00-03:00\",\"2022-10-25T00:00:00-03:00\",\"2022-10-26T00:00:00-03:00\",\"2022-10-27T00:00:00-03:00\",\"2022-10-28T00:00:00-03:00\",\"2022-10-31T00:00:00-03:00\",\"2022-11-01T00:00:00-03:00\",\"2022-11-03T00:00:00-03:00\",\"2022-11-04T00:00:00-03:00\",\"2022-11-07T00:00:00-03:00\",\"2022-11-08T00:00:00-03:00\",\"2022-11-09T00:00:00-03:00\",\"2022-11-10T00:00:00-03:00\",\"2022-11-11T00:00:00-03:00\",\"2022-11-14T00:00:00-03:00\",\"2022-11-16T00:00:00-03:00\",\"2022-11-17T00:00:00-03:00\",\"2022-11-18T00:00:00-03:00\",\"2022-11-21T00:00:00-03:00\",\"2022-11-22T00:00:00-03:00\",\"2022-11-23T00:00:00-03:00\",\"2022-11-24T00:00:00-03:00\",\"2022-11-25T00:00:00-03:00\",\"2022-11-28T00:00:00-03:00\",\"2022-11-29T00:00:00-03:00\",\"2022-11-30T00:00:00-03:00\",\"2022-12-01T00:00:00-03:00\",\"2022-12-02T00:00:00-03:00\",\"2022-12-05T00:00:00-03:00\",\"2022-12-06T00:00:00-03:00\",\"2022-12-07T00:00:00-03:00\",\"2022-12-08T00:00:00-03:00\",\"2022-12-09T00:00:00-03:00\",\"2022-12-12T00:00:00-03:00\",\"2022-12-13T00:00:00-03:00\"],\"y\":[7.79616641998291,7.8385820388793945,7.830101013183594,7.80465030670166,7.991281986236572,7.94886589050293,8.00825023651123,8.076116561889648,8.279717445373535,8.32213306427002,8.239002227783203,8.38520622253418,8.393808364868164,8.428206443786621,8.290602684020996,8.282002449035645,8.505610466003418,8.591609954833984,8.643211364746094,8.703413009643555,8.858217239379883,8.737815856933594,8.677614212036133,8.694812774658203,8.875418663024902,8.815216064453125,8.84101676940918,8.737815856933594,8.849617004394531,9.073223114013672,9.150625228881836,9.17642593383789,9.210827827453613,9.056022644042969,9.09902572631836,8.832417488098145,8.832417488098145,8.703413009643555,8.557209014892578,8.72921371459961,null,8.75325870513916,8.75325870513916,8.675488471984863,8.424903869628906,8.329852104187012,8.744617462158203,8.6409273147583,8.606363296508789,8.6409273147583,8.597721099853516,8.718694686889648,8.917436599731445,9.038408279418945,9.2457914352417,9.409968376159668,9.44453239440918,9.479095458984375,9.569351196289062,9.438384056091309,9.586813926696777,9.473307609558105,9.499502182006836,9.473307609558105,9.412190437316895,9.272492408752441,9.237566947937012,9.115330696105957,9.167717933654785,9.080405235290527,9.062944412231445,8.94943904876709,8.958169937133789,9.001826286315918,8.94943904876709,8.940707206726074,8.774815559387207,8.862126350402832,8.539074897766113,8.504149436950684,8.556536674499512,8.416836738586426,8.346990585327148,8.19855785369873,8.434301376342773,8.17236614227295,8.20728874206543,8.032666206359863,8.041398048400879,8.041398048400879,8.181096076965332,8.242215156555176,8.416836738586426,8.443031311035156,8.37317943572998,8.338257789611816,8.47795581817627,8.565267562866211,8.556536674499512,8.47795581817627,8.539074897766113,8.46922492980957,8.425570487976074,8.434301376342773,8.463645935058594,8.533666610717773,8.306100845336914,8.411131858825684,8.35861587524414,8.323606491088867,8.192319869995117,8.17481517791748,8.087288856506348,8.026021957397461,8.008517265319824,8.131052017211914,8.069785118103027,8.061033248901367,8.05228042602539,8.0172700881958,7.885983943939209,7.929745674133301,7.903487682342529,7.8159637451171875,7.754696369171143,7.6496663093566895,7.693428993225098,7.640913486480713,7.623408317565918,7.737191200256348,7.7722015380859375,7.65841817855835,7.570894241333008,7.48336935043335,7.527131080627441,7.693428993225098,7.702181339263916,7.842220783233643,7.824715614318848,7.894735813140869,7.824715614318848,7.833467960357666,7.833467960357666,7.920993328094482,7.973509311676025,8.087288856506348,7.8159637451171875,7.9560017585754395,7.964756011962891,7.982260704040527,8.113547325134277,8.14855670928955,8.288596153259277,8.288596153259277,8.288596153259277,8.376120567321777,8.34111213684082,8.411131858825684,8.384873390197754,8.384873390197754,8.411031723022461,8.358187675476074,8.331767082214355,8.296536445617676,8.366994857788086,8.278922080993652,8.278922080993652,8.28773021697998,8.234885215759277,8.14970588684082,8.27331829071045,8.379273414611816,8.326297760009766,8.317466735839844,8.326297760009766,8.4852294921875,8.361614227294922,8.361614227294922,8.34395694732666,8.290977478027344,8.538207054138184,8.732458114624023,8.697138786315918,8.944367408752441,8.723628044128418,8.555865287780762,8.432252883911133,8.511717796325684,8.573525428771973,8.714797973632812,9.23574447631836,9.147448539733887,9.18276596069336,9.165106773376465,9.059152603149414,9.050322532653809,8.988515853881836,8.95319652557373,8.873730659484863,9.050322532653809,9.191596031188965,9.279891967773438,9.262232780456543,9.650734901428223,9.315210342407227,9.271061897277832,9.120960235595703,9.253403663635254,9.288721084594727,9.553608894348145,9.56243896484375,9.615415573120117,9.580098152160645,9.544779777526855,9.456483840942383,9.165106773376465,8.917879104614258,9.071513175964355,8.877263069152832,8.818987846374512,8.789850234985352,8.789850234985352,8.879268646240234,8.889037132263184,8.76205062866211,8.976949691772461,9.016022682189941,8.879268646240234,8.869500160217285,9.162545204162598,8.862427711486816,8.911391258239746,8.784085273742676,8.754706382751465,8.81346321105957,8.76449966430664,8.680000305175781,8.630000114440918,8.489999771118164],\"type\":\"scatter\",\"xaxis\":\"x\",\"yaxis\":\"y\",\"textposition\":\"bottom right\",\"connectgaps\":true},{\"line\":{\"shape\":\"spline\"},\"name\":\"ITSA4\",\"x\":[\"2022-01-03T00:00:00-03:00\",\"2022-01-04T00:00:00-03:00\",\"2022-01-05T00:00:00-03:00\",\"2022-01-06T00:00:00-03:00\",\"2022-01-07T00:00:00-03:00\",\"2022-01-10T00:00:00-03:00\",\"2022-01-11T00:00:00-03:00\",\"2022-01-12T00:00:00-03:00\",\"2022-01-13T00:00:00-03:00\",\"2022-01-14T00:00:00-03:00\",\"2022-01-17T00:00:00-03:00\",\"2022-01-18T00:00:00-03:00\",\"2022-01-19T00:00:00-03:00\",\"2022-01-20T00:00:00-03:00\",\"2022-01-21T00:00:00-03:00\",\"2022-01-24T00:00:00-03:00\",\"2022-01-25T00:00:00-03:00\",\"2022-01-26T00:00:00-03:00\",\"2022-01-27T00:00:00-03:00\",\"2022-01-28T00:00:00-03:00\",\"2022-01-31T00:00:00-03:00\",\"2022-02-01T00:00:00-03:00\",\"2022-02-02T00:00:00-03:00\",\"2022-02-03T00:00:00-03:00\",\"2022-02-04T00:00:00-03:00\",\"2022-02-07T00:00:00-03:00\",\"2022-02-08T00:00:00-03:00\",\"2022-02-09T00:00:00-03:00\",\"2022-02-10T00:00:00-03:00\",\"2022-02-11T00:00:00-03:00\",\"2022-02-14T00:00:00-03:00\",\"2022-02-15T00:00:00-03:00\",\"2022-02-16T00:00:00-03:00\",\"2022-02-17T00:00:00-03:00\",\"2022-02-18T00:00:00-03:00\",\"2022-02-21T00:00:00-03:00\",\"2022-02-22T00:00:00-03:00\",\"2022-02-23T00:00:00-03:00\",\"2022-02-24T00:00:00-03:00\",\"2022-02-25T00:00:00-03:00\",\"2022-03-01T00:00:00-03:00\",\"2022-03-02T00:00:00-03:00\",\"2022-03-03T00:00:00-03:00\",\"2022-03-04T00:00:00-03:00\",\"2022-03-07T00:00:00-03:00\",\"2022-03-08T00:00:00-03:00\",\"2022-03-09T00:00:00-03:00\",\"2022-03-10T00:00:00-03:00\",\"2022-03-11T00:00:00-03:00\",\"2022-03-14T00:00:00-03:00\",\"2022-03-15T00:00:00-03:00\",\"2022-03-16T00:00:00-03:00\",\"2022-03-17T00:00:00-03:00\",\"2022-03-18T00:00:00-03:00\",\"2022-03-21T00:00:00-03:00\",\"2022-03-22T00:00:00-03:00\",\"2022-03-23T00:00:00-03:00\",\"2022-03-24T00:00:00-03:00\",\"2022-03-25T00:00:00-03:00\",\"2022-03-28T00:00:00-03:00\",\"2022-03-29T00:00:00-03:00\",\"2022-03-30T00:00:00-03:00\",\"2022-03-31T00:00:00-03:00\",\"2022-04-01T00:00:00-03:00\",\"2022-04-04T00:00:00-03:00\",\"2022-04-05T00:00:00-03:00\",\"2022-04-06T00:00:00-03:00\",\"2022-04-07T00:00:00-03:00\",\"2022-04-08T00:00:00-03:00\",\"2022-04-11T00:00:00-03:00\",\"2022-04-12T00:00:00-03:00\",\"2022-04-13T00:00:00-03:00\",\"2022-04-14T00:00:00-03:00\",\"2022-04-18T00:00:00-03:00\",\"2022-04-19T00:00:00-03:00\",\"2022-04-20T00:00:00-03:00\",\"2022-04-22T00:00:00-03:00\",\"2022-04-25T00:00:00-03:00\",\"2022-04-26T00:00:00-03:00\",\"2022-04-27T00:00:00-03:00\",\"2022-04-28T00:00:00-03:00\",\"2022-04-29T00:00:00-03:00\",\"2022-05-02T00:00:00-03:00\",\"2022-05-03T00:00:00-03:00\",\"2022-05-04T00:00:00-03:00\",\"2022-05-05T00:00:00-03:00\",\"2022-05-06T00:00:00-03:00\",\"2022-05-09T00:00:00-03:00\",\"2022-05-10T00:00:00-03:00\",\"2022-05-11T00:00:00-03:00\",\"2022-05-12T00:00:00-03:00\",\"2022-05-13T00:00:00-03:00\",\"2022-05-16T00:00:00-03:00\",\"2022-05-17T00:00:00-03:00\",\"2022-05-18T00:00:00-03:00\",\"2022-05-19T00:00:00-03:00\",\"2022-05-20T00:00:00-03:00\",\"2022-05-23T00:00:00-03:00\",\"2022-05-24T00:00:00-03:00\",\"2022-05-25T00:00:00-03:00\",\"2022-05-26T00:00:00-03:00\",\"2022-05-27T00:00:00-03:00\",\"2022-05-30T00:00:00-03:00\",\"2022-05-31T00:00:00-03:00\",\"2022-06-01T00:00:00-03:00\",\"2022-06-02T00:00:00-03:00\",\"2022-06-03T00:00:00-03:00\",\"2022-06-06T00:00:00-03:00\",\"2022-06-07T00:00:00-03:00\",\"2022-06-08T00:00:00-03:00\",\"2022-06-09T00:00:00-03:00\",\"2022-06-10T00:00:00-03:00\",\"2022-06-13T00:00:00-03:00\",\"2022-06-14T00:00:00-03:00\",\"2022-06-15T00:00:00-03:00\",\"2022-06-17T00:00:00-03:00\",\"2022-06-20T00:00:00-03:00\",\"2022-06-21T00:00:00-03:00\",\"2022-06-22T00:00:00-03:00\",\"2022-06-23T00:00:00-03:00\",\"2022-06-24T00:00:00-03:00\",\"2022-06-27T00:00:00-03:00\",\"2022-06-28T00:00:00-03:00\",\"2022-06-29T00:00:00-03:00\",\"2022-06-30T00:00:00-03:00\",\"2022-07-01T00:00:00-03:00\",\"2022-07-04T00:00:00-03:00\",\"2022-07-05T00:00:00-03:00\",\"2022-07-06T00:00:00-03:00\",\"2022-07-07T00:00:00-03:00\",\"2022-07-08T00:00:00-03:00\",\"2022-07-11T00:00:00-03:00\",\"2022-07-12T00:00:00-03:00\",\"2022-07-13T00:00:00-03:00\",\"2022-07-14T00:00:00-03:00\",\"2022-07-15T00:00:00-03:00\",\"2022-07-18T00:00:00-03:00\",\"2022-07-19T00:00:00-03:00\",\"2022-07-20T00:00:00-03:00\",\"2022-07-21T00:00:00-03:00\",\"2022-07-22T00:00:00-03:00\",\"2022-07-25T00:00:00-03:00\",\"2022-07-26T00:00:00-03:00\",\"2022-07-27T00:00:00-03:00\",\"2022-07-28T00:00:00-03:00\",\"2022-07-29T00:00:00-03:00\",\"2022-08-01T00:00:00-03:00\",\"2022-08-02T00:00:00-03:00\",\"2022-08-03T00:00:00-03:00\",\"2022-08-04T00:00:00-03:00\",\"2022-08-05T00:00:00-03:00\",\"2022-08-08T00:00:00-03:00\",\"2022-08-09T00:00:00-03:00\",\"2022-08-10T00:00:00-03:00\",\"2022-08-11T00:00:00-03:00\",\"2022-08-12T00:00:00-03:00\",\"2022-08-15T00:00:00-03:00\",\"2022-08-16T00:00:00-03:00\",\"2022-08-17T00:00:00-03:00\",\"2022-08-18T00:00:00-03:00\",\"2022-08-19T00:00:00-03:00\",\"2022-08-22T00:00:00-03:00\",\"2022-08-23T00:00:00-03:00\",\"2022-08-24T00:00:00-03:00\",\"2022-08-25T00:00:00-03:00\",\"2022-08-26T00:00:00-03:00\",\"2022-08-29T00:00:00-03:00\",\"2022-08-30T00:00:00-03:00\",\"2022-08-31T00:00:00-03:00\",\"2022-09-01T00:00:00-03:00\",\"2022-09-02T00:00:00-03:00\",\"2022-09-05T00:00:00-03:00\",\"2022-09-06T00:00:00-03:00\",\"2022-09-08T00:00:00-03:00\",\"2022-09-09T00:00:00-03:00\",\"2022-09-12T00:00:00-03:00\",\"2022-09-13T00:00:00-03:00\",\"2022-09-14T00:00:00-03:00\",\"2022-09-15T00:00:00-03:00\",\"2022-09-16T00:00:00-03:00\",\"2022-09-19T00:00:00-03:00\",\"2022-09-20T00:00:00-03:00\",\"2022-09-21T00:00:00-03:00\",\"2022-09-22T00:00:00-03:00\",\"2022-09-23T00:00:00-03:00\",\"2022-09-26T00:00:00-03:00\",\"2022-09-27T00:00:00-03:00\",\"2022-09-28T00:00:00-03:00\",\"2022-09-29T00:00:00-03:00\",\"2022-09-30T00:00:00-03:00\",\"2022-10-03T00:00:00-03:00\",\"2022-10-04T00:00:00-03:00\",\"2022-10-05T00:00:00-03:00\",\"2022-10-06T00:00:00-03:00\",\"2022-10-07T00:00:00-03:00\",\"2022-10-10T00:00:00-03:00\",\"2022-10-11T00:00:00-03:00\",\"2022-10-13T00:00:00-03:00\",\"2022-10-14T00:00:00-03:00\",\"2022-10-17T00:00:00-03:00\",\"2022-10-18T00:00:00-03:00\",\"2022-10-19T00:00:00-03:00\",\"2022-10-20T00:00:00-03:00\",\"2022-10-21T00:00:00-03:00\",\"2022-10-24T00:00:00-03:00\",\"2022-10-25T00:00:00-03:00\",\"2022-10-26T00:00:00-03:00\",\"2022-10-27T00:00:00-03:00\",\"2022-10-28T00:00:00-03:00\",\"2022-10-31T00:00:00-03:00\",\"2022-11-01T00:00:00-03:00\",\"2022-11-03T00:00:00-03:00\",\"2022-11-04T00:00:00-03:00\",\"2022-11-07T00:00:00-03:00\",\"2022-11-08T00:00:00-03:00\",\"2022-11-09T00:00:00-03:00\",\"2022-11-10T00:00:00-03:00\",\"2022-11-11T00:00:00-03:00\",\"2022-11-14T00:00:00-03:00\",\"2022-11-16T00:00:00-03:00\",\"2022-11-17T00:00:00-03:00\",\"2022-11-18T00:00:00-03:00\",\"2022-11-21T00:00:00-03:00\",\"2022-11-22T00:00:00-03:00\",\"2022-11-23T00:00:00-03:00\",\"2022-11-24T00:00:00-03:00\",\"2022-11-25T00:00:00-03:00\",\"2022-11-28T00:00:00-03:00\",\"2022-11-29T00:00:00-03:00\",\"2022-11-30T00:00:00-03:00\",\"2022-12-01T00:00:00-03:00\",\"2022-12-02T00:00:00-03:00\",\"2022-12-05T00:00:00-03:00\",\"2022-12-06T00:00:00-03:00\",\"2022-12-07T00:00:00-03:00\",\"2022-12-08T00:00:00-03:00\",\"2022-12-09T00:00:00-03:00\",\"2022-12-12T00:00:00-03:00\",\"2022-12-13T00:00:00-03:00\"],\"y\":[7.635641574859619,7.694897651672363,7.610244274139404,7.677966594696045,7.771085739135742,7.771085739135742,7.898063659667969,7.8726677894592285,8.092764854431152,8.185881614685059,8.188746452331543,8.248833656311035,8.257416725158691,8.248833656311035,8.197331428527832,8.154414176940918,8.360418319702148,8.446256637573242,8.557841300964355,8.643678665161133,8.746682167053223,8.763848304748535,8.617925643920898,8.643678665161133,8.815349578857422,8.695178031921387,8.712347030639648,8.566425323486328,8.660845756530762,9.029940605163574,8.99560546875,9.10719108581543,9.081442832946777,8.987020492553711,9.029940605163574,8.763848304748535,8.78101634979248,8.652263641357422,8.514924049377441,8.600759506225586,null,8.581634521484375,8.60750961303711,8.5126371383667,8.23664665222168,8.219396591186523,8.659256935119629,8.555761337280273,8.469512939453125,8.538511276245117,8.460887908935547,8.616132736206055,8.84900188446045,8.978373527526855,9.21124267578125,9.349237442016602,9.314739227294922,9.418234825134277,9.412458419799805,9.386313438415527,9.456034660339355,9.447318077087402,9.36888313293457,9.403742790222168,9.34273624420166,9.098709106445312,9.028987884521484,8.950549125671387,8.950549125671387,8.872114181518555,8.784960746765137,8.793675422668457,8.802391052246094,8.854683876037598,8.758814811706543,8.76753044128418,8.636802673339844,8.610657691955566,8.244616508483887,8.1923246383667,8.148749351501465,8.02673625946045,7.974444389343262,7.957014560699463,7.930867671966553,7.730416297912598,7.756563186645508,7.651980400085449,7.5996880531311035,7.765278339385986,7.896007061004639,7.965728282928467,8.05288028717041,8.122602462768555,8.000589370727539,8.061596870422363,8.166178703308105,8.27076244354248,8.349198341369629,8.209754943847656,8.244616508483887,8.244616508483887,8.227185249328613,8.357914924621582,8.291104316711426,8.32605266571045,8.20373821258545,8.238685607910156,8.151318550109863,8.037740707397461,7.924163341522217,7.766903400421143,7.644590377807617,7.618379592895508,7.679537296295166,7.539750576019287,7.775640964508057,7.705746650695801,7.740694046020508,7.574697017669678,7.539750576019287,7.6358537673950195,7.539750576019287,7.46112060546875,7.286386489868164,7.2689127922058105,7.207756519317627,7.216492176055908,7.207756519317627,7.286386489868164,7.330069541931152,7.181546211242676,7.164073467254639,7.094180107116699,7.076706409454346,7.29512357711792,7.365016937255859,7.5048041343688965,7.391226768493652,7.4785943031311035,7.39996337890625,7.46112060546875,7.4436469078063965,7.4785943031311035,7.557223796844482,7.539750576019287,7.46112060546875,7.531013488769531,7.592170715332031,7.766903400421143,7.871744155883789,7.976585388183594,8.125106811523438,8.168791770935059,8.142580032348633,8.247420310974121,8.256158828735352,8.291104316711426,8.299839973449707,8.299839973449707,8.264409065246582,8.194073677062988,8.194073677062988,8.167698860168457,8.246825218200684,8.220451354980469,8.167698860168457,8.211657524108887,8.044611930847168,8.074165344238281,8.19757080078125,8.294529914855957,8.153496742248535,8.171125411987305,8.224015235900879,8.373861312866211,8.259272575378418,8.250457763671875,8.241643905639648,8.179941177368164,8.426750183105469,8.664743423461914,8.620671272277832,8.805776596069336,8.603041648864746,8.426750183105469,8.338604927062988,8.365046501159668,8.47082233428955,8.576598167419434,9.18480396270752,9.096659660339355,9.123101234436035,9.07903003692627,9.017328262329102,8.999698638916016,8.885108947753906,8.832220077514648,8.79696273803711,8.893922805786133,9.07021427154541,9.158360481262207,9.343466758728027,9.590276718139648,9.220063209533691,9.167174339294434,8.929180145263672,9.158360481262207,9.167174339294434,9.46687126159668,9.484500885009766,9.46687126159668,9.493315696716309,9.325837135314941,9.35228157043457,8.964439392089844,8.744073867797852,8.571309089660645,8.677966117858887,8.522828102111816,8.561613082885742,8.639181137084961,8.650436401367188,8.582168579101562,8.523653984069824,8.806474685668945,8.61142635345459,8.543159484863281,8.572416305541992,8.660188674926758,8.536520957946777,8.575634956359863,8.389845848083496,8.448515892028809,8.419180870056152,8.184499740600586,8.170000076293945,8.109999656677246,7.840000152587891],\"type\":\"scatter\",\"xaxis\":\"x\",\"yaxis\":\"y\",\"textposition\":\"bottom right\",\"connectgaps\":true},{\"line\":{\"shape\":\"spline\"},\"name\":\"Diferença\",\"x\":[\"2022-01-03T00:00:00-03:00\",\"2022-01-04T00:00:00-03:00\",\"2022-01-05T00:00:00-03:00\",\"2022-01-06T00:00:00-03:00\",\"2022-01-07T00:00:00-03:00\",\"2022-01-10T00:00:00-03:00\",\"2022-01-11T00:00:00-03:00\",\"2022-01-12T00:00:00-03:00\",\"2022-01-13T00:00:00-03:00\",\"2022-01-14T00:00:00-03:00\",\"2022-01-17T00:00:00-03:00\",\"2022-01-18T00:00:00-03:00\",\"2022-01-19T00:00:00-03:00\",\"2022-01-20T00:00:00-03:00\",\"2022-01-21T00:00:00-03:00\",\"2022-01-24T00:00:00-03:00\",\"2022-01-25T00:00:00-03:00\",\"2022-01-26T00:00:00-03:00\",\"2022-01-27T00:00:00-03:00\",\"2022-01-28T00:00:00-03:00\",\"2022-01-31T00:00:00-03:00\",\"2022-02-01T00:00:00-03:00\",\"2022-02-02T00:00:00-03:00\",\"2022-02-03T00:00:00-03:00\",\"2022-02-04T00:00:00-03:00\",\"2022-02-07T00:00:00-03:00\",\"2022-02-08T00:00:00-03:00\",\"2022-02-09T00:00:00-03:00\",\"2022-02-10T00:00:00-03:00\",\"2022-02-11T00:00:00-03:00\",\"2022-02-14T00:00:00-03:00\",\"2022-02-15T00:00:00-03:00\",\"2022-02-16T00:00:00-03:00\",\"2022-02-17T00:00:00-03:00\",\"2022-02-18T00:00:00-03:00\",\"2022-02-21T00:00:00-03:00\",\"2022-02-22T00:00:00-03:00\",\"2022-02-23T00:00:00-03:00\",\"2022-02-24T00:00:00-03:00\",\"2022-02-25T00:00:00-03:00\",\"2022-03-01T00:00:00-03:00\",\"2022-03-02T00:00:00-03:00\",\"2022-03-03T00:00:00-03:00\",\"2022-03-04T00:00:00-03:00\",\"2022-03-07T00:00:00-03:00\",\"2022-03-08T00:00:00-03:00\",\"2022-03-09T00:00:00-03:00\",\"2022-03-10T00:00:00-03:00\",\"2022-03-11T00:00:00-03:00\",\"2022-03-14T00:00:00-03:00\",\"2022-03-15T00:00:00-03:00\",\"2022-03-16T00:00:00-03:00\",\"2022-03-17T00:00:00-03:00\",\"2022-03-18T00:00:00-03:00\",\"2022-03-21T00:00:00-03:00\",\"2022-03-22T00:00:00-03:00\",\"2022-03-23T00:00:00-03:00\",\"2022-03-24T00:00:00-03:00\",\"2022-03-25T00:00:00-03:00\",\"2022-03-28T00:00:00-03:00\",\"2022-03-29T00:00:00-03:00\",\"2022-03-30T00:00:00-03:00\",\"2022-03-31T00:00:00-03:00\",\"2022-04-01T00:00:00-03:00\",\"2022-04-04T00:00:00-03:00\",\"2022-04-05T00:00:00-03:00\",\"2022-04-06T00:00:00-03:00\",\"2022-04-07T00:00:00-03:00\",\"2022-04-08T00:00:00-03:00\",\"2022-04-11T00:00:00-03:00\",\"2022-04-12T00:00:00-03:00\",\"2022-04-13T00:00:00-03:00\",\"2022-04-14T00:00:00-03:00\",\"2022-04-18T00:00:00-03:00\",\"2022-04-19T00:00:00-03:00\",\"2022-04-20T00:00:00-03:00\",\"2022-04-22T00:00:00-03:00\",\"2022-04-25T00:00:00-03:00\",\"2022-04-26T00:00:00-03:00\",\"2022-04-27T00:00:00-03:00\",\"2022-04-28T00:00:00-03:00\",\"2022-04-29T00:00:00-03:00\",\"2022-05-02T00:00:00-03:00\",\"2022-05-03T00:00:00-03:00\",\"2022-05-04T00:00:00-03:00\",\"2022-05-05T00:00:00-03:00\",\"2022-05-06T00:00:00-03:00\",\"2022-05-09T00:00:00-03:00\",\"2022-05-10T00:00:00-03:00\",\"2022-05-11T00:00:00-03:00\",\"2022-05-12T00:00:00-03:00\",\"2022-05-13T00:00:00-03:00\",\"2022-05-16T00:00:00-03:00\",\"2022-05-17T00:00:00-03:00\",\"2022-05-18T00:00:00-03:00\",\"2022-05-19T00:00:00-03:00\",\"2022-05-20T00:00:00-03:00\",\"2022-05-23T00:00:00-03:00\",\"2022-05-24T00:00:00-03:00\",\"2022-05-25T00:00:00-03:00\",\"2022-05-26T00:00:00-03:00\",\"2022-05-27T00:00:00-03:00\",\"2022-05-30T00:00:00-03:00\",\"2022-05-31T00:00:00-03:00\",\"2022-06-01T00:00:00-03:00\",\"2022-06-02T00:00:00-03:00\",\"2022-06-03T00:00:00-03:00\",\"2022-06-06T00:00:00-03:00\",\"2022-06-07T00:00:00-03:00\",\"2022-06-08T00:00:00-03:00\",\"2022-06-09T00:00:00-03:00\",\"2022-06-10T00:00:00-03:00\",\"2022-06-13T00:00:00-03:00\",\"2022-06-14T00:00:00-03:00\",\"2022-06-15T00:00:00-03:00\",\"2022-06-17T00:00:00-03:00\",\"2022-06-20T00:00:00-03:00\",\"2022-06-21T00:00:00-03:00\",\"2022-06-22T00:00:00-03:00\",\"2022-06-23T00:00:00-03:00\",\"2022-06-24T00:00:00-03:00\",\"2022-06-27T00:00:00-03:00\",\"2022-06-28T00:00:00-03:00\",\"2022-06-29T00:00:00-03:00\",\"2022-06-30T00:00:00-03:00\",\"2022-07-01T00:00:00-03:00\",\"2022-07-04T00:00:00-03:00\",\"2022-07-05T00:00:00-03:00\",\"2022-07-06T00:00:00-03:00\",\"2022-07-07T00:00:00-03:00\",\"2022-07-08T00:00:00-03:00\",\"2022-07-11T00:00:00-03:00\",\"2022-07-12T00:00:00-03:00\",\"2022-07-13T00:00:00-03:00\",\"2022-07-14T00:00:00-03:00\",\"2022-07-15T00:00:00-03:00\",\"2022-07-18T00:00:00-03:00\",\"2022-07-19T00:00:00-03:00\",\"2022-07-20T00:00:00-03:00\",\"2022-07-21T00:00:00-03:00\",\"2022-07-22T00:00:00-03:00\",\"2022-07-25T00:00:00-03:00\",\"2022-07-26T00:00:00-03:00\",\"2022-07-27T00:00:00-03:00\",\"2022-07-28T00:00:00-03:00\",\"2022-07-29T00:00:00-03:00\",\"2022-08-01T00:00:00-03:00\",\"2022-08-02T00:00:00-03:00\",\"2022-08-03T00:00:00-03:00\",\"2022-08-04T00:00:00-03:00\",\"2022-08-05T00:00:00-03:00\",\"2022-08-08T00:00:00-03:00\",\"2022-08-09T00:00:00-03:00\",\"2022-08-10T00:00:00-03:00\",\"2022-08-11T00:00:00-03:00\",\"2022-08-12T00:00:00-03:00\",\"2022-08-15T00:00:00-03:00\",\"2022-08-16T00:00:00-03:00\",\"2022-08-17T00:00:00-03:00\",\"2022-08-18T00:00:00-03:00\",\"2022-08-19T00:00:00-03:00\",\"2022-08-22T00:00:00-03:00\",\"2022-08-23T00:00:00-03:00\",\"2022-08-24T00:00:00-03:00\",\"2022-08-25T00:00:00-03:00\",\"2022-08-26T00:00:00-03:00\",\"2022-08-29T00:00:00-03:00\",\"2022-08-30T00:00:00-03:00\",\"2022-08-31T00:00:00-03:00\",\"2022-09-01T00:00:00-03:00\",\"2022-09-02T00:00:00-03:00\",\"2022-09-05T00:00:00-03:00\",\"2022-09-06T00:00:00-03:00\",\"2022-09-08T00:00:00-03:00\",\"2022-09-09T00:00:00-03:00\",\"2022-09-12T00:00:00-03:00\",\"2022-09-13T00:00:00-03:00\",\"2022-09-14T00:00:00-03:00\",\"2022-09-15T00:00:00-03:00\",\"2022-09-16T00:00:00-03:00\",\"2022-09-19T00:00:00-03:00\",\"2022-09-20T00:00:00-03:00\",\"2022-09-21T00:00:00-03:00\",\"2022-09-22T00:00:00-03:00\",\"2022-09-23T00:00:00-03:00\",\"2022-09-26T00:00:00-03:00\",\"2022-09-27T00:00:00-03:00\",\"2022-09-28T00:00:00-03:00\",\"2022-09-29T00:00:00-03:00\",\"2022-09-30T00:00:00-03:00\",\"2022-10-03T00:00:00-03:00\",\"2022-10-04T00:00:00-03:00\",\"2022-10-05T00:00:00-03:00\",\"2022-10-06T00:00:00-03:00\",\"2022-10-07T00:00:00-03:00\",\"2022-10-10T00:00:00-03:00\",\"2022-10-11T00:00:00-03:00\",\"2022-10-13T00:00:00-03:00\",\"2022-10-14T00:00:00-03:00\",\"2022-10-17T00:00:00-03:00\",\"2022-10-18T00:00:00-03:00\",\"2022-10-19T00:00:00-03:00\",\"2022-10-20T00:00:00-03:00\",\"2022-10-21T00:00:00-03:00\",\"2022-10-24T00:00:00-03:00\",\"2022-10-25T00:00:00-03:00\",\"2022-10-26T00:00:00-03:00\",\"2022-10-27T00:00:00-03:00\",\"2022-10-28T00:00:00-03:00\",\"2022-10-31T00:00:00-03:00\",\"2022-11-01T00:00:00-03:00\",\"2022-11-03T00:00:00-03:00\",\"2022-11-04T00:00:00-03:00\",\"2022-11-07T00:00:00-03:00\",\"2022-11-08T00:00:00-03:00\",\"2022-11-09T00:00:00-03:00\",\"2022-11-10T00:00:00-03:00\",\"2022-11-11T00:00:00-03:00\",\"2022-11-14T00:00:00-03:00\",\"2022-11-16T00:00:00-03:00\",\"2022-11-17T00:00:00-03:00\",\"2022-11-18T00:00:00-03:00\",\"2022-11-21T00:00:00-03:00\",\"2022-11-22T00:00:00-03:00\",\"2022-11-23T00:00:00-03:00\",\"2022-11-24T00:00:00-03:00\",\"2022-11-25T00:00:00-03:00\",\"2022-11-28T00:00:00-03:00\",\"2022-11-29T00:00:00-03:00\",\"2022-11-30T00:00:00-03:00\",\"2022-12-01T00:00:00-03:00\",\"2022-12-02T00:00:00-03:00\",\"2022-12-05T00:00:00-03:00\",\"2022-12-06T00:00:00-03:00\",\"2022-12-07T00:00:00-03:00\",\"2022-12-08T00:00:00-03:00\",\"2022-12-09T00:00:00-03:00\",\"2022-12-12T00:00:00-03:00\",\"2022-12-13T00:00:00-03:00\"],\"y\":[0.16052484512329102,0.14368438720703125,0.21985673904418945,0.12668371200561523,0.22019624710083008,0.1777801513671875,0.11018657684326172,0.20344877243041992,0.1869525909423828,0.13625144958496094,0.050255775451660156,0.13637256622314453,0.13639163970947266,0.17937278747558594,0.09327125549316406,0.12758827209472656,0.14519214630126953,0.1453533172607422,0.08537006378173828,0.059734344482421875,0.11153507232666016,-0.026032447814941406,0.059688568115234375,0.05113410949707031,0.06006908416748047,0.12003803253173828,0.12866973876953125,0.17139053344726562,0.18877124786376953,0.043282508850097656,0.15501976013183594,0.06923484802246094,0.12938499450683594,0.06900215148925781,0.06908512115478516,0.06856918334960938,0.05140113830566406,0.05114936828613281,0.04228496551513672,0.12845420837402344,null,0.17162418365478516,0.14574909210205078,0.16285133361816406,0.18825721740722656,0.11045551300048828,0.08536052703857422,0.08516597747802734,0.13685035705566406,0.1024160385131836,0.13683319091796875,0.10256195068359375,0.0684347152709961,0.060034751892089844,0.03454875946044922,0.060730934143066406,0.1297931671142578,0.060860633850097656,0.1568927764892578,0.05207061767578125,0.13077926635742188,0.025989532470703125,0.13061904907226562,0.0695648193359375,0.06945419311523438,0.1737833023071289,0.20857906341552734,0.1647815704345703,0.21716880798339844,0.20829105377197266,0.2779836654663086,0.1557636260986328,0.1557788848876953,0.1471424102783203,0.19062423706054688,0.17317676544189453,0.13801288604736328,0.2514686584472656,0.29445838928222656,0.3118247985839844,0.4077873229980469,0.39010047912597656,0.3725461959838867,0.24154329299926758,0.5034337043762207,0.44194984436035156,0.4507255554199219,0.38068580627441406,0.4417099952697754,0.2761197090148926,0.28508901596069336,0.276486873626709,0.3639564514160156,0.32042884826660156,0.3725900650024414,0.2766609191894531,0.31177711486816406,0.29450511932373047,0.2073383331298828,0.2682008743286133,0.29445838928222656,0.2246084213256836,0.19838523864746094,0.0763864517211914,0.17254161834716797,0.20761394500732422,0.10236263275146484,0.17244625091552734,0.20729732513427734,0.28586578369140625,0.2681565284729004,0.4079117774963379,0.44269847869873047,0.4076423645019531,0.3289799690246582,0.591301441192627,0.2941441535949707,0.3552865982055664,0.3115863800048828,0.44257307052612305,0.3462333679199219,0.29389190673828125,0.3637371063232422,0.3548431396484375,0.4683098793029785,0.3807535171508789,0.4856724739074707,0.4244213104248047,0.415651798248291,0.4508047103881836,0.44213199615478516,0.47687196731567383,0.40682077407836914,0.3891892433166504,0.4504246711730957,0.39830541610717773,0.33716440200805664,0.3374166488647461,0.4334888458251953,0.4161415100097656,0.42475223541259766,0.372347354888916,0.38982105255126953,0.4423990249633789,0.41628551483154297,0.5475382804870605,0.3548431396484375,0.4249882698059082,0.3725852966308594,0.21535730361938477,0.24180316925048828,0.17197132110595703,0.16348934173583984,0.11980438232421875,0.14601612091064453,0.12870025634765625,0.08495330810546875,0.12002754211425781,0.08503341674804688,0.08503341674804688,0.1466226577758789,0.16411399841308594,0.1376934051513672,0.12883758544921875,0.12016963958740234,0.058470726013183594,0.11122322082519531,0.07607269287109375,0.19027328491210938,0.07554054260253906,0.07574748992919922,0.08474349975585938,0.17280101776123047,0.14634132385253906,0.10228252410888672,0.11136817932128906,0.1023416519165039,0.11115646362304688,0.10231304168701172,0.11103630065917969,0.11145687103271484,0.06771469116210938,0.07646751403808594,0.13859081268310547,0.12058639526367188,0.12911510467529297,0.09364795684814453,0.14667129516601562,0.10270309448242188,0.1381998062133789,0.050940513610839844,0.05078887939453125,0.05966472625732422,0.08607673645019531,0.0418243408203125,0.05062389373779297,0.10340690612792969,0.12097644805908203,0.0767679214477539,0.15639972686767578,0.12138175964355469,0.12153148651123047,-0.08123397827148438,0.06045818328857422,0.09514713287353516,0.10388755798339844,0.19178009033203125,0.09504318237304688,0.12154674530029297,0.08673763275146484,0.07793807983398438,0.1485443115234375,0.08678245544433594,0.21894264221191406,0.1042022705078125,0.2006673812866211,0.17380523681640625,0.5002040863037109,0.1992969512939453,0.2961597442626953,0.22823715209960938,0.15066909790039062,0.22883224487304688,0.3068685531616211,0.23839664459228516,0.17047500610351562,0.40459632873535156,0.3361091613769531,0.29708385467529297,0.5023565292358398,0.32590675354003906,0.3357563018798828,0.3942394256591797,0.30619049072265625,0.39428234100341797,0.5799999237060547,0.5100002288818359,0.5200004577636719,0.6499996185302734],\"type\":\"scatter\",\"xaxis\":\"x\",\"yaxis\":\"y\",\"textposition\":\"bottom right\",\"connectgaps\":true}],                        {\"template\":{\"data\":{\"histogram2dcontour\":[{\"type\":\"histogram2dcontour\",\"colorbar\":{\"outlinewidth\":0,\"ticks\":\"\"},\"colorscale\":[[0.0,\"#0d0887\"],[0.1111111111111111,\"#46039f\"],[0.2222222222222222,\"#7201a8\"],[0.3333333333333333,\"#9c179e\"],[0.4444444444444444,\"#bd3786\"],[0.5555555555555556,\"#d8576b\"],[0.6666666666666666,\"#ed7953\"],[0.7777777777777778,\"#fb9f3a\"],[0.8888888888888888,\"#fdca26\"],[1.0,\"#f0f921\"]]}],\"choropleth\":[{\"type\":\"choropleth\",\"colorbar\":{\"outlinewidth\":0,\"ticks\":\"\"}}],\"histogram2d\":[{\"type\":\"histogram2d\",\"colorbar\":{\"outlinewidth\":0,\"ticks\":\"\"},\"colorscale\":[[0.0,\"#0d0887\"],[0.1111111111111111,\"#46039f\"],[0.2222222222222222,\"#7201a8\"],[0.3333333333333333,\"#9c179e\"],[0.4444444444444444,\"#bd3786\"],[0.5555555555555556,\"#d8576b\"],[0.6666666666666666,\"#ed7953\"],[0.7777777777777778,\"#fb9f3a\"],[0.8888888888888888,\"#fdca26\"],[1.0,\"#f0f921\"]]}],\"heatmap\":[{\"type\":\"heatmap\",\"colorbar\":{\"outlinewidth\":0,\"ticks\":\"\"},\"colorscale\":[[0.0,\"#0d0887\"],[0.1111111111111111,\"#46039f\"],[0.2222222222222222,\"#7201a8\"],[0.3333333333333333,\"#9c179e\"],[0.4444444444444444,\"#bd3786\"],[0.5555555555555556,\"#d8576b\"],[0.6666666666666666,\"#ed7953\"],[0.7777777777777778,\"#fb9f3a\"],[0.8888888888888888,\"#fdca26\"],[1.0,\"#f0f921\"]]}],\"heatmapgl\":[{\"type\":\"heatmapgl\",\"colorbar\":{\"outlinewidth\":0,\"ticks\":\"\"},\"colorscale\":[[0.0,\"#0d0887\"],[0.1111111111111111,\"#46039f\"],[0.2222222222222222,\"#7201a8\"],[0.3333333333333333,\"#9c179e\"],[0.4444444444444444,\"#bd3786\"],[0.5555555555555556,\"#d8576b\"],[0.6666666666666666,\"#ed7953\"],[0.7777777777777778,\"#fb9f3a\"],[0.8888888888888888,\"#fdca26\"],[1.0,\"#f0f921\"]]}],\"contourcarpet\":[{\"type\":\"contourcarpet\",\"colorbar\":{\"outlinewidth\":0,\"ticks\":\"\"}}],\"contour\":[{\"type\":\"contour\",\"colorbar\":{\"outlinewidth\":0,\"ticks\":\"\"},\"colorscale\":[[0.0,\"#0d0887\"],[0.1111111111111111,\"#46039f\"],[0.2222222222222222,\"#7201a8\"],[0.3333333333333333,\"#9c179e\"],[0.4444444444444444,\"#bd3786\"],[0.5555555555555556,\"#d8576b\"],[0.6666666666666666,\"#ed7953\"],[0.7777777777777778,\"#fb9f3a\"],[0.8888888888888888,\"#fdca26\"],[1.0,\"#f0f921\"]]}],\"surface\":[{\"type\":\"surface\",\"colorbar\":{\"outlinewidth\":0,\"ticks\":\"\"},\"colorscale\":[[0.0,\"#0d0887\"],[0.1111111111111111,\"#46039f\"],[0.2222222222222222,\"#7201a8\"],[0.3333333333333333,\"#9c179e\"],[0.4444444444444444,\"#bd3786\"],[0.5555555555555556,\"#d8576b\"],[0.6666666666666666,\"#ed7953\"],[0.7777777777777778,\"#fb9f3a\"],[0.8888888888888888,\"#fdca26\"],[1.0,\"#f0f921\"]]}],\"mesh3d\":[{\"type\":\"mesh3d\",\"colorbar\":{\"outlinewidth\":0,\"ticks\":\"\"}}],\"scatter\":[{\"fillpattern\":{\"fillmode\":\"overlay\",\"size\":10,\"solidity\":0.2},\"type\":\"scatter\"}],\"parcoords\":[{\"type\":\"parcoords\",\"line\":{\"colorbar\":{\"outlinewidth\":0,\"ticks\":\"\"}}}],\"scatterpolargl\":[{\"type\":\"scatterpolargl\",\"marker\":{\"colorbar\":{\"outlinewidth\":0,\"ticks\":\"\"}}}],\"bar\":[{\"error_x\":{\"color\":\"#2a3f5f\"},\"error_y\":{\"color\":\"#2a3f5f\"},\"marker\":{\"line\":{\"color\":\"#E5ECF6\",\"width\":0.5},\"pattern\":{\"fillmode\":\"overlay\",\"size\":10,\"solidity\":0.2}},\"type\":\"bar\"}],\"scattergeo\":[{\"type\":\"scattergeo\",\"marker\":{\"colorbar\":{\"outlinewidth\":0,\"ticks\":\"\"}}}],\"scatterpolar\":[{\"type\":\"scatterpolar\",\"marker\":{\"colorbar\":{\"outlinewidth\":0,\"ticks\":\"\"}}}],\"histogram\":[{\"marker\":{\"pattern\":{\"fillmode\":\"overlay\",\"size\":10,\"solidity\":0.2}},\"type\":\"histogram\"}],\"scattergl\":[{\"type\":\"scattergl\",\"marker\":{\"colorbar\":{\"outlinewidth\":0,\"ticks\":\"\"}}}],\"scatter3d\":[{\"type\":\"scatter3d\",\"line\":{\"colorbar\":{\"outlinewidth\":0,\"ticks\":\"\"}},\"marker\":{\"colorbar\":{\"outlinewidth\":0,\"ticks\":\"\"}}}],\"scattermapbox\":[{\"type\":\"scattermapbox\",\"marker\":{\"colorbar\":{\"outlinewidth\":0,\"ticks\":\"\"}}}],\"scatterternary\":[{\"type\":\"scatterternary\",\"marker\":{\"colorbar\":{\"outlinewidth\":0,\"ticks\":\"\"}}}],\"scattercarpet\":[{\"type\":\"scattercarpet\",\"marker\":{\"colorbar\":{\"outlinewidth\":0,\"ticks\":\"\"}}}],\"carpet\":[{\"aaxis\":{\"endlinecolor\":\"#2a3f5f\",\"gridcolor\":\"white\",\"linecolor\":\"white\",\"minorgridcolor\":\"white\",\"startlinecolor\":\"#2a3f5f\"},\"baxis\":{\"endlinecolor\":\"#2a3f5f\",\"gridcolor\":\"white\",\"linecolor\":\"white\",\"minorgridcolor\":\"white\",\"startlinecolor\":\"#2a3f5f\"},\"type\":\"carpet\"}],\"table\":[{\"cells\":{\"fill\":{\"color\":\"#EBF0F8\"},\"line\":{\"color\":\"white\"}},\"header\":{\"fill\":{\"color\":\"#C8D4E3\"},\"line\":{\"color\":\"white\"}},\"type\":\"table\"}],\"barpolar\":[{\"marker\":{\"line\":{\"color\":\"#E5ECF6\",\"width\":0.5},\"pattern\":{\"fillmode\":\"overlay\",\"size\":10,\"solidity\":0.2}},\"type\":\"barpolar\"}],\"pie\":[{\"automargin\":true,\"type\":\"pie\"}]},\"layout\":{\"autotypenumbers\":\"strict\",\"colorway\":[\"#636efa\",\"#EF553B\",\"#00cc96\",\"#ab63fa\",\"#FFA15A\",\"#19d3f3\",\"#FF6692\",\"#B6E880\",\"#FF97FF\",\"#FECB52\"],\"font\":{\"color\":\"#2a3f5f\"},\"hovermode\":\"closest\",\"hoverlabel\":{\"align\":\"left\"},\"paper_bgcolor\":\"white\",\"plot_bgcolor\":\"#E5ECF6\",\"polar\":{\"bgcolor\":\"#E5ECF6\",\"angularaxis\":{\"gridcolor\":\"white\",\"linecolor\":\"white\",\"ticks\":\"\"},\"radialaxis\":{\"gridcolor\":\"white\",\"linecolor\":\"white\",\"ticks\":\"\"}},\"ternary\":{\"bgcolor\":\"#E5ECF6\",\"aaxis\":{\"gridcolor\":\"white\",\"linecolor\":\"white\",\"ticks\":\"\"},\"baxis\":{\"gridcolor\":\"white\",\"linecolor\":\"white\",\"ticks\":\"\"},\"caxis\":{\"gridcolor\":\"white\",\"linecolor\":\"white\",\"ticks\":\"\"}},\"coloraxis\":{\"colorbar\":{\"outlinewidth\":0,\"ticks\":\"\"}},\"colorscale\":{\"sequential\":[[0.0,\"#0d0887\"],[0.1111111111111111,\"#46039f\"],[0.2222222222222222,\"#7201a8\"],[0.3333333333333333,\"#9c179e\"],[0.4444444444444444,\"#bd3786\"],[0.5555555555555556,\"#d8576b\"],[0.6666666666666666,\"#ed7953\"],[0.7777777777777778,\"#fb9f3a\"],[0.8888888888888888,\"#fdca26\"],[1.0,\"#f0f921\"]],\"sequentialminus\":[[0.0,\"#0d0887\"],[0.1111111111111111,\"#46039f\"],[0.2222222222222222,\"#7201a8\"],[0.3333333333333333,\"#9c179e\"],[0.4444444444444444,\"#bd3786\"],[0.5555555555555556,\"#d8576b\"],[0.6666666666666666,\"#ed7953\"],[0.7777777777777778,\"#fb9f3a\"],[0.8888888888888888,\"#fdca26\"],[1.0,\"#f0f921\"]],\"diverging\":[[0,\"#8e0152\"],[0.1,\"#c51b7d\"],[0.2,\"#de77ae\"],[0.3,\"#f1b6da\"],[0.4,\"#fde0ef\"],[0.5,\"#f7f7f7\"],[0.6,\"#e6f5d0\"],[0.7,\"#b8e186\"],[0.8,\"#7fbc41\"],[0.9,\"#4d9221\"],[1,\"#276419\"]]},\"xaxis\":{\"gridcolor\":\"white\",\"linecolor\":\"white\",\"ticks\":\"\",\"title\":{\"standoff\":15},\"zerolinecolor\":\"white\",\"automargin\":true,\"zerolinewidth\":2},\"yaxis\":{\"gridcolor\":\"white\",\"linecolor\":\"white\",\"ticks\":\"\",\"title\":{\"standoff\":15},\"zerolinecolor\":\"white\",\"automargin\":true,\"zerolinewidth\":2},\"scene\":{\"xaxis\":{\"backgroundcolor\":\"#E5ECF6\",\"gridcolor\":\"white\",\"linecolor\":\"white\",\"showbackground\":true,\"ticks\":\"\",\"zerolinecolor\":\"white\",\"gridwidth\":2},\"yaxis\":{\"backgroundcolor\":\"#E5ECF6\",\"gridcolor\":\"white\",\"linecolor\":\"white\",\"showbackground\":true,\"ticks\":\"\",\"zerolinecolor\":\"white\",\"gridwidth\":2},\"zaxis\":{\"backgroundcolor\":\"#E5ECF6\",\"gridcolor\":\"white\",\"linecolor\":\"white\",\"showbackground\":true,\"ticks\":\"\",\"zerolinecolor\":\"white\",\"gridwidth\":2}},\"shapedefaults\":{\"line\":{\"color\":\"#2a3f5f\"}},\"annotationdefaults\":{\"arrowcolor\":\"#2a3f5f\",\"arrowhead\":0,\"arrowwidth\":1},\"geo\":{\"bgcolor\":\"white\",\"landcolor\":\"#E5ECF6\",\"subunitcolor\":\"white\",\"showland\":true,\"showlakes\":true,\"lakecolor\":\"white\"},\"title\":{\"x\":0.05},\"mapbox\":{\"style\":\"light\"}}},\"xaxis\":{\"anchor\":\"y\",\"domain\":[0.0,0.94],\"title\":{\"text\":\"Mês (2022)\"},\"tickmode\":\"array\",\"tickvals\":[\"2022-02\",\"2022-03\",\"2022-04\",\"2022-05\",\"2022-06\",\"2022-07\",\"2022-08\",\"2022-09\",\"2022-10\",\"2022-11\",\"2022-12\"],\"ticktext\":[\"Fevereiro\",\"Março\",\"Abril\",\"Maio\",\"Junho\",\"Julho\",\"Agostto\",\"Setembro\",\"Outubro\",\"Novembro\",\"Dezembro\"]},\"yaxis\":{\"anchor\":\"x\",\"domain\":[0.0,1.0],\"title\":{\"text\":\"Cotação\"},\"tickmode\":\"array\",\"tickvals\":[0,1,7,8,9,10,11],\"ticktext\":[\"R$ 0\",\"R$ 1\",\"R$ 7,00\",\"R$ 8\",\"R$ 9\",\"R$ 10\",\"R$ 11\"]},\"yaxis2\":{\"anchor\":\"x\",\"overlaying\":\"y\",\"side\":\"right\",\"title\":{\"text\":\"Cotação\"}}},                        {\"responsive\": true}                    ).then(function(){\n",
       "                            \n",
       "var gd = document.getElementById('b7bfbba2-75b2-474d-bc7f-b9977c79dc1e');\n",
       "var x = new MutationObserver(function (mutations, observer) {{\n",
       "        var display = window.getComputedStyle(gd).display;\n",
       "        if (!display || display === 'none') {{\n",
       "            console.log([gd, 'removed!']);\n",
       "            Plotly.purge(gd);\n",
       "            observer.disconnect();\n",
       "        }}\n",
       "}});\n",
       "\n",
       "// Listen for the removal of the full notebook cells\n",
       "var notebookContainer = gd.closest('#notebook-container');\n",
       "if (notebookContainer) {{\n",
       "    x.observe(notebookContainer, {childList: true});\n",
       "}}\n",
       "\n",
       "// Listen for the clearing of the current output cell\n",
       "var outputEl = gd.closest('.output');\n",
       "if (outputEl) {{\n",
       "    x.observe(outputEl, {childList: true});\n",
       "}}\n",
       "\n",
       "                        })                };                });            </script>        </div>"
      ]
     },
     "metadata": {},
     "output_type": "display_data"
    }
   ],
   "source": [
    "import plotly.express as px\n",
    "from plotly.subplots import make_subplots\n",
    "import plotly.graph_objects as go\n",
    "\n",
    "fig = make_subplots(specs=[[{\"secondary_y\": True}]])\n",
    "fig.add_trace(\n",
    "    go.Scatter(x=df_itsa['Data'],y=df_itsa['Fechamento ITSA3'], name='ITSA3',\n",
    "    line_shape='spline'),\n",
    "    secondary_y= False,\n",
    ")\n",
    "fig.add_trace(\n",
    "    go.Scatter(x=df_itsa['Data'],y=df_itsa['Fechamento ITSA4'], name='ITSA4',\n",
    "               line_shape='spline'),\n",
    "    secondary_y= False,\n",
    ")\n",
    "fig.add_trace(\n",
    "    go.Scatter(x=df_itsa['Data'],y=df_itsa['Diferença Fechamento'], name='Diferença',\n",
    "               line_shape='spline'),\n",
    "    secondary_y= False,\n",
    ")\n",
    "fig.update_xaxes(title_text=\"Mês (2022)\")\n",
    "fig.update_yaxes(title_text=\"Cotação\")\n",
    "\n",
    "fig.update_layout(\n",
    "    yaxis = dict(\n",
    "        tickmode = 'array',\n",
    "        tickvals = [0,1,7, 8,9,10,11],\n",
    "        ticktext = ['R$ 0', 'R$ 1', 'R$ 7,00','R$ 8', 'R$ 9', 'R$ 10', 'R$ 11']\n",
    "    )\n",
    ")\n",
    "\n",
    "fig.update_layout(\n",
    "    xaxis = dict(\n",
    "        tickmode = 'array',\n",
    "        tickvals = ['2022-02', '2022-03', '2022-04', '2022-05', '2022-06', '2022-07','2022-08', '2022-09','2022-10','2022-11','2022-12'],\n",
    "        ticktext = ['Fevereiro', 'Março', 'Abril', 'Maio', 'Junho', 'Julho','Agostto','Setembro','Outubro','Novembro','Dezembro']\n",
    "    )\n",
    ")\n",
    "fig.update_traces(textposition=\"bottom right\")\n",
    "fig.update_traces(connectgaps=True)\n",
    "fig.show()"
   ]
  },
  {
   "cell_type": "code",
   "execution_count": 10,
   "id": "6c4f8b27",
   "metadata": {
    "execution": {
     "iopub.execute_input": "2022-12-15T15:29:19.800981Z",
     "iopub.status.busy": "2022-12-15T15:29:19.800658Z",
     "iopub.status.idle": "2022-12-15T15:29:20.475991Z",
     "shell.execute_reply": "2022-12-15T15:29:20.475188Z"
    },
    "id": "kPUPsuZf662l",
    "outputId": "f5387945-3066-434b-92cd-6649868c2d64",
    "papermill": {
     "duration": 0.688142,
     "end_time": "2022-12-15T15:29:20.477622",
     "exception": false,
     "start_time": "2022-12-15T15:29:19.789480",
     "status": "completed"
    },
    "tags": []
   },
   "outputs": [
    {
     "data": {
      "text/html": [
       "<div>                            <div id=\"1edfe411-7d3f-4ee6-8847-3a0f723f0979\" class=\"plotly-graph-div\" style=\"height:525px; width:100%;\"></div>            <script type=\"text/javascript\">                require([\"plotly\"], function(Plotly) {                    window.PLOTLYENV=window.PLOTLYENV || {};                                    if (document.getElementById(\"1edfe411-7d3f-4ee6-8847-3a0f723f0979\")) {                    Plotly.newPlot(                        \"1edfe411-7d3f-4ee6-8847-3a0f723f0979\",                        [{\"hovertemplate\":\"Data: %{x} <br>Diferença Cotação: R$ %{y:.2f}\",\"legendgroup\":\"\",\"line\":{\"color\":\"#636efa\",\"dash\":\"solid\",\"shape\":\"spline\"},\"marker\":{\"symbol\":\"circle\"},\"mode\":\"lines\",\"name\":\"\",\"orientation\":\"v\",\"showlegend\":false,\"x\":[\"2022-01-03T00:00:00-03:00\",\"2022-01-04T00:00:00-03:00\",\"2022-01-05T00:00:00-03:00\",\"2022-01-06T00:00:00-03:00\",\"2022-01-07T00:00:00-03:00\",\"2022-01-10T00:00:00-03:00\",\"2022-01-11T00:00:00-03:00\",\"2022-01-12T00:00:00-03:00\",\"2022-01-13T00:00:00-03:00\",\"2022-01-14T00:00:00-03:00\",\"2022-01-17T00:00:00-03:00\",\"2022-01-18T00:00:00-03:00\",\"2022-01-19T00:00:00-03:00\",\"2022-01-20T00:00:00-03:00\",\"2022-01-21T00:00:00-03:00\",\"2022-01-24T00:00:00-03:00\",\"2022-01-25T00:00:00-03:00\",\"2022-01-26T00:00:00-03:00\",\"2022-01-27T00:00:00-03:00\",\"2022-01-28T00:00:00-03:00\",\"2022-01-31T00:00:00-03:00\",\"2022-02-01T00:00:00-03:00\",\"2022-02-02T00:00:00-03:00\",\"2022-02-03T00:00:00-03:00\",\"2022-02-04T00:00:00-03:00\",\"2022-02-07T00:00:00-03:00\",\"2022-02-08T00:00:00-03:00\",\"2022-02-09T00:00:00-03:00\",\"2022-02-10T00:00:00-03:00\",\"2022-02-11T00:00:00-03:00\",\"2022-02-14T00:00:00-03:00\",\"2022-02-15T00:00:00-03:00\",\"2022-02-16T00:00:00-03:00\",\"2022-02-17T00:00:00-03:00\",\"2022-02-18T00:00:00-03:00\",\"2022-02-21T00:00:00-03:00\",\"2022-02-22T00:00:00-03:00\",\"2022-02-23T00:00:00-03:00\",\"2022-02-24T00:00:00-03:00\",\"2022-02-25T00:00:00-03:00\",\"2022-03-01T00:00:00-03:00\",\"2022-03-02T00:00:00-03:00\",\"2022-03-03T00:00:00-03:00\",\"2022-03-04T00:00:00-03:00\",\"2022-03-07T00:00:00-03:00\",\"2022-03-08T00:00:00-03:00\",\"2022-03-09T00:00:00-03:00\",\"2022-03-10T00:00:00-03:00\",\"2022-03-11T00:00:00-03:00\",\"2022-03-14T00:00:00-03:00\",\"2022-03-15T00:00:00-03:00\",\"2022-03-16T00:00:00-03:00\",\"2022-03-17T00:00:00-03:00\",\"2022-03-18T00:00:00-03:00\",\"2022-03-21T00:00:00-03:00\",\"2022-03-22T00:00:00-03:00\",\"2022-03-23T00:00:00-03:00\",\"2022-03-24T00:00:00-03:00\",\"2022-03-25T00:00:00-03:00\",\"2022-03-28T00:00:00-03:00\",\"2022-03-29T00:00:00-03:00\",\"2022-03-30T00:00:00-03:00\",\"2022-03-31T00:00:00-03:00\",\"2022-04-01T00:00:00-03:00\",\"2022-04-04T00:00:00-03:00\",\"2022-04-05T00:00:00-03:00\",\"2022-04-06T00:00:00-03:00\",\"2022-04-07T00:00:00-03:00\",\"2022-04-08T00:00:00-03:00\",\"2022-04-11T00:00:00-03:00\",\"2022-04-12T00:00:00-03:00\",\"2022-04-13T00:00:00-03:00\",\"2022-04-14T00:00:00-03:00\",\"2022-04-18T00:00:00-03:00\",\"2022-04-19T00:00:00-03:00\",\"2022-04-20T00:00:00-03:00\",\"2022-04-22T00:00:00-03:00\",\"2022-04-25T00:00:00-03:00\",\"2022-04-26T00:00:00-03:00\",\"2022-04-27T00:00:00-03:00\",\"2022-04-28T00:00:00-03:00\",\"2022-04-29T00:00:00-03:00\",\"2022-05-02T00:00:00-03:00\",\"2022-05-03T00:00:00-03:00\",\"2022-05-04T00:00:00-03:00\",\"2022-05-05T00:00:00-03:00\",\"2022-05-06T00:00:00-03:00\",\"2022-05-09T00:00:00-03:00\",\"2022-05-10T00:00:00-03:00\",\"2022-05-11T00:00:00-03:00\",\"2022-05-12T00:00:00-03:00\",\"2022-05-13T00:00:00-03:00\",\"2022-05-16T00:00:00-03:00\",\"2022-05-17T00:00:00-03:00\",\"2022-05-18T00:00:00-03:00\",\"2022-05-19T00:00:00-03:00\",\"2022-05-20T00:00:00-03:00\",\"2022-05-23T00:00:00-03:00\",\"2022-05-24T00:00:00-03:00\",\"2022-05-25T00:00:00-03:00\",\"2022-05-26T00:00:00-03:00\",\"2022-05-27T00:00:00-03:00\",\"2022-05-30T00:00:00-03:00\",\"2022-05-31T00:00:00-03:00\",\"2022-06-01T00:00:00-03:00\",\"2022-06-02T00:00:00-03:00\",\"2022-06-03T00:00:00-03:00\",\"2022-06-06T00:00:00-03:00\",\"2022-06-07T00:00:00-03:00\",\"2022-06-08T00:00:00-03:00\",\"2022-06-09T00:00:00-03:00\",\"2022-06-10T00:00:00-03:00\",\"2022-06-13T00:00:00-03:00\",\"2022-06-14T00:00:00-03:00\",\"2022-06-15T00:00:00-03:00\",\"2022-06-17T00:00:00-03:00\",\"2022-06-20T00:00:00-03:00\",\"2022-06-21T00:00:00-03:00\",\"2022-06-22T00:00:00-03:00\",\"2022-06-23T00:00:00-03:00\",\"2022-06-24T00:00:00-03:00\",\"2022-06-27T00:00:00-03:00\",\"2022-06-28T00:00:00-03:00\",\"2022-06-29T00:00:00-03:00\",\"2022-06-30T00:00:00-03:00\",\"2022-07-01T00:00:00-03:00\",\"2022-07-04T00:00:00-03:00\",\"2022-07-05T00:00:00-03:00\",\"2022-07-06T00:00:00-03:00\",\"2022-07-07T00:00:00-03:00\",\"2022-07-08T00:00:00-03:00\",\"2022-07-11T00:00:00-03:00\",\"2022-07-12T00:00:00-03:00\",\"2022-07-13T00:00:00-03:00\",\"2022-07-14T00:00:00-03:00\",\"2022-07-15T00:00:00-03:00\",\"2022-07-18T00:00:00-03:00\",\"2022-07-19T00:00:00-03:00\",\"2022-07-20T00:00:00-03:00\",\"2022-07-21T00:00:00-03:00\",\"2022-07-22T00:00:00-03:00\",\"2022-07-25T00:00:00-03:00\",\"2022-07-26T00:00:00-03:00\",\"2022-07-27T00:00:00-03:00\",\"2022-07-28T00:00:00-03:00\",\"2022-07-29T00:00:00-03:00\",\"2022-08-01T00:00:00-03:00\",\"2022-08-02T00:00:00-03:00\",\"2022-08-03T00:00:00-03:00\",\"2022-08-04T00:00:00-03:00\",\"2022-08-05T00:00:00-03:00\",\"2022-08-08T00:00:00-03:00\",\"2022-08-09T00:00:00-03:00\",\"2022-08-10T00:00:00-03:00\",\"2022-08-11T00:00:00-03:00\",\"2022-08-12T00:00:00-03:00\",\"2022-08-15T00:00:00-03:00\",\"2022-08-16T00:00:00-03:00\",\"2022-08-17T00:00:00-03:00\",\"2022-08-18T00:00:00-03:00\",\"2022-08-19T00:00:00-03:00\",\"2022-08-22T00:00:00-03:00\",\"2022-08-23T00:00:00-03:00\",\"2022-08-24T00:00:00-03:00\",\"2022-08-25T00:00:00-03:00\",\"2022-08-26T00:00:00-03:00\",\"2022-08-29T00:00:00-03:00\",\"2022-08-30T00:00:00-03:00\",\"2022-08-31T00:00:00-03:00\",\"2022-09-01T00:00:00-03:00\",\"2022-09-02T00:00:00-03:00\",\"2022-09-05T00:00:00-03:00\",\"2022-09-06T00:00:00-03:00\",\"2022-09-08T00:00:00-03:00\",\"2022-09-09T00:00:00-03:00\",\"2022-09-12T00:00:00-03:00\",\"2022-09-13T00:00:00-03:00\",\"2022-09-14T00:00:00-03:00\",\"2022-09-15T00:00:00-03:00\",\"2022-09-16T00:00:00-03:00\",\"2022-09-19T00:00:00-03:00\",\"2022-09-20T00:00:00-03:00\",\"2022-09-21T00:00:00-03:00\",\"2022-09-22T00:00:00-03:00\",\"2022-09-23T00:00:00-03:00\",\"2022-09-26T00:00:00-03:00\",\"2022-09-27T00:00:00-03:00\",\"2022-09-28T00:00:00-03:00\",\"2022-09-29T00:00:00-03:00\",\"2022-09-30T00:00:00-03:00\",\"2022-10-03T00:00:00-03:00\",\"2022-10-04T00:00:00-03:00\",\"2022-10-05T00:00:00-03:00\",\"2022-10-06T00:00:00-03:00\",\"2022-10-07T00:00:00-03:00\",\"2022-10-10T00:00:00-03:00\",\"2022-10-11T00:00:00-03:00\",\"2022-10-13T00:00:00-03:00\",\"2022-10-14T00:00:00-03:00\",\"2022-10-17T00:00:00-03:00\",\"2022-10-18T00:00:00-03:00\",\"2022-10-19T00:00:00-03:00\",\"2022-10-20T00:00:00-03:00\",\"2022-10-21T00:00:00-03:00\",\"2022-10-24T00:00:00-03:00\",\"2022-10-25T00:00:00-03:00\",\"2022-10-26T00:00:00-03:00\",\"2022-10-27T00:00:00-03:00\",\"2022-10-28T00:00:00-03:00\",\"2022-10-31T00:00:00-03:00\",\"2022-11-01T00:00:00-03:00\",\"2022-11-03T00:00:00-03:00\",\"2022-11-04T00:00:00-03:00\",\"2022-11-07T00:00:00-03:00\",\"2022-11-08T00:00:00-03:00\",\"2022-11-09T00:00:00-03:00\",\"2022-11-10T00:00:00-03:00\",\"2022-11-11T00:00:00-03:00\",\"2022-11-14T00:00:00-03:00\",\"2022-11-16T00:00:00-03:00\",\"2022-11-17T00:00:00-03:00\",\"2022-11-18T00:00:00-03:00\",\"2022-11-21T00:00:00-03:00\",\"2022-11-22T00:00:00-03:00\",\"2022-11-23T00:00:00-03:00\",\"2022-11-24T00:00:00-03:00\",\"2022-11-25T00:00:00-03:00\",\"2022-11-28T00:00:00-03:00\",\"2022-11-29T00:00:00-03:00\",\"2022-11-30T00:00:00-03:00\",\"2022-12-01T00:00:00-03:00\",\"2022-12-02T00:00:00-03:00\",\"2022-12-05T00:00:00-03:00\",\"2022-12-06T00:00:00-03:00\",\"2022-12-07T00:00:00-03:00\",\"2022-12-08T00:00:00-03:00\",\"2022-12-09T00:00:00-03:00\",\"2022-12-12T00:00:00-03:00\",\"2022-12-13T00:00:00-03:00\"],\"xaxis\":\"x\",\"y\":[0.16052484512329102,0.14368438720703125,0.21985673904418945,0.12668371200561523,0.22019624710083008,0.1777801513671875,0.11018657684326172,0.20344877243041992,0.1869525909423828,0.13625144958496094,0.050255775451660156,0.13637256622314453,0.13639163970947266,0.17937278747558594,0.09327125549316406,0.12758827209472656,0.14519214630126953,0.1453533172607422,0.08537006378173828,0.059734344482421875,0.11153507232666016,-0.026032447814941406,0.059688568115234375,0.05113410949707031,0.06006908416748047,0.12003803253173828,0.12866973876953125,0.17139053344726562,0.18877124786376953,0.043282508850097656,0.15501976013183594,0.06923484802246094,0.12938499450683594,0.06900215148925781,0.06908512115478516,0.06856918334960938,0.05140113830566406,0.05114936828613281,0.04228496551513672,0.12845420837402344,null,0.17162418365478516,0.14574909210205078,0.16285133361816406,0.18825721740722656,0.11045551300048828,0.08536052703857422,0.08516597747802734,0.13685035705566406,0.1024160385131836,0.13683319091796875,0.10256195068359375,0.0684347152709961,0.060034751892089844,0.03454875946044922,0.060730934143066406,0.1297931671142578,0.060860633850097656,0.1568927764892578,0.05207061767578125,0.13077926635742188,0.025989532470703125,0.13061904907226562,0.0695648193359375,0.06945419311523438,0.1737833023071289,0.20857906341552734,0.1647815704345703,0.21716880798339844,0.20829105377197266,0.2779836654663086,0.1557636260986328,0.1557788848876953,0.1471424102783203,0.19062423706054688,0.17317676544189453,0.13801288604736328,0.2514686584472656,0.29445838928222656,0.3118247985839844,0.4077873229980469,0.39010047912597656,0.3725461959838867,0.24154329299926758,0.5034337043762207,0.44194984436035156,0.4507255554199219,0.38068580627441406,0.4417099952697754,0.2761197090148926,0.28508901596069336,0.276486873626709,0.3639564514160156,0.32042884826660156,0.3725900650024414,0.2766609191894531,0.31177711486816406,0.29450511932373047,0.2073383331298828,0.2682008743286133,0.29445838928222656,0.2246084213256836,0.19838523864746094,0.0763864517211914,0.17254161834716797,0.20761394500732422,0.10236263275146484,0.17244625091552734,0.20729732513427734,0.28586578369140625,0.2681565284729004,0.4079117774963379,0.44269847869873047,0.4076423645019531,0.3289799690246582,0.591301441192627,0.2941441535949707,0.3552865982055664,0.3115863800048828,0.44257307052612305,0.3462333679199219,0.29389190673828125,0.3637371063232422,0.3548431396484375,0.4683098793029785,0.3807535171508789,0.4856724739074707,0.4244213104248047,0.415651798248291,0.4508047103881836,0.44213199615478516,0.47687196731567383,0.40682077407836914,0.3891892433166504,0.4504246711730957,0.39830541610717773,0.33716440200805664,0.3374166488647461,0.4334888458251953,0.4161415100097656,0.42475223541259766,0.372347354888916,0.38982105255126953,0.4423990249633789,0.41628551483154297,0.5475382804870605,0.3548431396484375,0.4249882698059082,0.3725852966308594,0.21535730361938477,0.24180316925048828,0.17197132110595703,0.16348934173583984,0.11980438232421875,0.14601612091064453,0.12870025634765625,0.08495330810546875,0.12002754211425781,0.08503341674804688,0.08503341674804688,0.1466226577758789,0.16411399841308594,0.1376934051513672,0.12883758544921875,0.12016963958740234,0.058470726013183594,0.11122322082519531,0.07607269287109375,0.19027328491210938,0.07554054260253906,0.07574748992919922,0.08474349975585938,0.17280101776123047,0.14634132385253906,0.10228252410888672,0.11136817932128906,0.1023416519165039,0.11115646362304688,0.10231304168701172,0.11103630065917969,0.11145687103271484,0.06771469116210938,0.07646751403808594,0.13859081268310547,0.12058639526367188,0.12911510467529297,0.09364795684814453,0.14667129516601562,0.10270309448242188,0.1381998062133789,0.050940513610839844,0.05078887939453125,0.05966472625732422,0.08607673645019531,0.0418243408203125,0.05062389373779297,0.10340690612792969,0.12097644805908203,0.0767679214477539,0.15639972686767578,0.12138175964355469,0.12153148651123047,-0.08123397827148438,0.06045818328857422,0.09514713287353516,0.10388755798339844,0.19178009033203125,0.09504318237304688,0.12154674530029297,0.08673763275146484,0.07793807983398438,0.1485443115234375,0.08678245544433594,0.21894264221191406,0.1042022705078125,0.2006673812866211,0.17380523681640625,0.5002040863037109,0.1992969512939453,0.2961597442626953,0.22823715209960938,0.15066909790039062,0.22883224487304688,0.3068685531616211,0.23839664459228516,0.17047500610351562,0.40459632873535156,0.3361091613769531,0.29708385467529297,0.5023565292358398,0.32590675354003906,0.3357563018798828,0.3942394256591797,0.30619049072265625,0.39428234100341797,0.5799999237060547,0.5100002288818359,0.5200004577636719,0.6499996185302734],\"yaxis\":\"y\",\"type\":\"scatter\",\"connectgaps\":true},{\"hovertemplate\":\"Data: %{x} <br>Diferença Cotação: R$ %{y:.2f}\",\"type\":\"scatter\"}],                        {\"template\":{\"data\":{\"histogram2dcontour\":[{\"type\":\"histogram2dcontour\",\"colorbar\":{\"outlinewidth\":0,\"ticks\":\"\"},\"colorscale\":[[0.0,\"#0d0887\"],[0.1111111111111111,\"#46039f\"],[0.2222222222222222,\"#7201a8\"],[0.3333333333333333,\"#9c179e\"],[0.4444444444444444,\"#bd3786\"],[0.5555555555555556,\"#d8576b\"],[0.6666666666666666,\"#ed7953\"],[0.7777777777777778,\"#fb9f3a\"],[0.8888888888888888,\"#fdca26\"],[1.0,\"#f0f921\"]]}],\"choropleth\":[{\"type\":\"choropleth\",\"colorbar\":{\"outlinewidth\":0,\"ticks\":\"\"}}],\"histogram2d\":[{\"type\":\"histogram2d\",\"colorbar\":{\"outlinewidth\":0,\"ticks\":\"\"},\"colorscale\":[[0.0,\"#0d0887\"],[0.1111111111111111,\"#46039f\"],[0.2222222222222222,\"#7201a8\"],[0.3333333333333333,\"#9c179e\"],[0.4444444444444444,\"#bd3786\"],[0.5555555555555556,\"#d8576b\"],[0.6666666666666666,\"#ed7953\"],[0.7777777777777778,\"#fb9f3a\"],[0.8888888888888888,\"#fdca26\"],[1.0,\"#f0f921\"]]}],\"heatmap\":[{\"type\":\"heatmap\",\"colorbar\":{\"outlinewidth\":0,\"ticks\":\"\"},\"colorscale\":[[0.0,\"#0d0887\"],[0.1111111111111111,\"#46039f\"],[0.2222222222222222,\"#7201a8\"],[0.3333333333333333,\"#9c179e\"],[0.4444444444444444,\"#bd3786\"],[0.5555555555555556,\"#d8576b\"],[0.6666666666666666,\"#ed7953\"],[0.7777777777777778,\"#fb9f3a\"],[0.8888888888888888,\"#fdca26\"],[1.0,\"#f0f921\"]]}],\"heatmapgl\":[{\"type\":\"heatmapgl\",\"colorbar\":{\"outlinewidth\":0,\"ticks\":\"\"},\"colorscale\":[[0.0,\"#0d0887\"],[0.1111111111111111,\"#46039f\"],[0.2222222222222222,\"#7201a8\"],[0.3333333333333333,\"#9c179e\"],[0.4444444444444444,\"#bd3786\"],[0.5555555555555556,\"#d8576b\"],[0.6666666666666666,\"#ed7953\"],[0.7777777777777778,\"#fb9f3a\"],[0.8888888888888888,\"#fdca26\"],[1.0,\"#f0f921\"]]}],\"contourcarpet\":[{\"type\":\"contourcarpet\",\"colorbar\":{\"outlinewidth\":0,\"ticks\":\"\"}}],\"contour\":[{\"type\":\"contour\",\"colorbar\":{\"outlinewidth\":0,\"ticks\":\"\"},\"colorscale\":[[0.0,\"#0d0887\"],[0.1111111111111111,\"#46039f\"],[0.2222222222222222,\"#7201a8\"],[0.3333333333333333,\"#9c179e\"],[0.4444444444444444,\"#bd3786\"],[0.5555555555555556,\"#d8576b\"],[0.6666666666666666,\"#ed7953\"],[0.7777777777777778,\"#fb9f3a\"],[0.8888888888888888,\"#fdca26\"],[1.0,\"#f0f921\"]]}],\"surface\":[{\"type\":\"surface\",\"colorbar\":{\"outlinewidth\":0,\"ticks\":\"\"},\"colorscale\":[[0.0,\"#0d0887\"],[0.1111111111111111,\"#46039f\"],[0.2222222222222222,\"#7201a8\"],[0.3333333333333333,\"#9c179e\"],[0.4444444444444444,\"#bd3786\"],[0.5555555555555556,\"#d8576b\"],[0.6666666666666666,\"#ed7953\"],[0.7777777777777778,\"#fb9f3a\"],[0.8888888888888888,\"#fdca26\"],[1.0,\"#f0f921\"]]}],\"mesh3d\":[{\"type\":\"mesh3d\",\"colorbar\":{\"outlinewidth\":0,\"ticks\":\"\"}}],\"scatter\":[{\"fillpattern\":{\"fillmode\":\"overlay\",\"size\":10,\"solidity\":0.2},\"type\":\"scatter\"}],\"parcoords\":[{\"type\":\"parcoords\",\"line\":{\"colorbar\":{\"outlinewidth\":0,\"ticks\":\"\"}}}],\"scatterpolargl\":[{\"type\":\"scatterpolargl\",\"marker\":{\"colorbar\":{\"outlinewidth\":0,\"ticks\":\"\"}}}],\"bar\":[{\"error_x\":{\"color\":\"#2a3f5f\"},\"error_y\":{\"color\":\"#2a3f5f\"},\"marker\":{\"line\":{\"color\":\"#E5ECF6\",\"width\":0.5},\"pattern\":{\"fillmode\":\"overlay\",\"size\":10,\"solidity\":0.2}},\"type\":\"bar\"}],\"scattergeo\":[{\"type\":\"scattergeo\",\"marker\":{\"colorbar\":{\"outlinewidth\":0,\"ticks\":\"\"}}}],\"scatterpolar\":[{\"type\":\"scatterpolar\",\"marker\":{\"colorbar\":{\"outlinewidth\":0,\"ticks\":\"\"}}}],\"histogram\":[{\"marker\":{\"pattern\":{\"fillmode\":\"overlay\",\"size\":10,\"solidity\":0.2}},\"type\":\"histogram\"}],\"scattergl\":[{\"type\":\"scattergl\",\"marker\":{\"colorbar\":{\"outlinewidth\":0,\"ticks\":\"\"}}}],\"scatter3d\":[{\"type\":\"scatter3d\",\"line\":{\"colorbar\":{\"outlinewidth\":0,\"ticks\":\"\"}},\"marker\":{\"colorbar\":{\"outlinewidth\":0,\"ticks\":\"\"}}}],\"scattermapbox\":[{\"type\":\"scattermapbox\",\"marker\":{\"colorbar\":{\"outlinewidth\":0,\"ticks\":\"\"}}}],\"scatterternary\":[{\"type\":\"scatterternary\",\"marker\":{\"colorbar\":{\"outlinewidth\":0,\"ticks\":\"\"}}}],\"scattercarpet\":[{\"type\":\"scattercarpet\",\"marker\":{\"colorbar\":{\"outlinewidth\":0,\"ticks\":\"\"}}}],\"carpet\":[{\"aaxis\":{\"endlinecolor\":\"#2a3f5f\",\"gridcolor\":\"white\",\"linecolor\":\"white\",\"minorgridcolor\":\"white\",\"startlinecolor\":\"#2a3f5f\"},\"baxis\":{\"endlinecolor\":\"#2a3f5f\",\"gridcolor\":\"white\",\"linecolor\":\"white\",\"minorgridcolor\":\"white\",\"startlinecolor\":\"#2a3f5f\"},\"type\":\"carpet\"}],\"table\":[{\"cells\":{\"fill\":{\"color\":\"#EBF0F8\"},\"line\":{\"color\":\"white\"}},\"header\":{\"fill\":{\"color\":\"#C8D4E3\"},\"line\":{\"color\":\"white\"}},\"type\":\"table\"}],\"barpolar\":[{\"marker\":{\"line\":{\"color\":\"#E5ECF6\",\"width\":0.5},\"pattern\":{\"fillmode\":\"overlay\",\"size\":10,\"solidity\":0.2}},\"type\":\"barpolar\"}],\"pie\":[{\"automargin\":true,\"type\":\"pie\"}]},\"layout\":{\"autotypenumbers\":\"strict\",\"colorway\":[\"#636efa\",\"#EF553B\",\"#00cc96\",\"#ab63fa\",\"#FFA15A\",\"#19d3f3\",\"#FF6692\",\"#B6E880\",\"#FF97FF\",\"#FECB52\"],\"font\":{\"color\":\"#2a3f5f\"},\"hovermode\":\"closest\",\"hoverlabel\":{\"align\":\"left\"},\"paper_bgcolor\":\"white\",\"plot_bgcolor\":\"#E5ECF6\",\"polar\":{\"bgcolor\":\"#E5ECF6\",\"angularaxis\":{\"gridcolor\":\"white\",\"linecolor\":\"white\",\"ticks\":\"\"},\"radialaxis\":{\"gridcolor\":\"white\",\"linecolor\":\"white\",\"ticks\":\"\"}},\"ternary\":{\"bgcolor\":\"#E5ECF6\",\"aaxis\":{\"gridcolor\":\"white\",\"linecolor\":\"white\",\"ticks\":\"\"},\"baxis\":{\"gridcolor\":\"white\",\"linecolor\":\"white\",\"ticks\":\"\"},\"caxis\":{\"gridcolor\":\"white\",\"linecolor\":\"white\",\"ticks\":\"\"}},\"coloraxis\":{\"colorbar\":{\"outlinewidth\":0,\"ticks\":\"\"}},\"colorscale\":{\"sequential\":[[0.0,\"#0d0887\"],[0.1111111111111111,\"#46039f\"],[0.2222222222222222,\"#7201a8\"],[0.3333333333333333,\"#9c179e\"],[0.4444444444444444,\"#bd3786\"],[0.5555555555555556,\"#d8576b\"],[0.6666666666666666,\"#ed7953\"],[0.7777777777777778,\"#fb9f3a\"],[0.8888888888888888,\"#fdca26\"],[1.0,\"#f0f921\"]],\"sequentialminus\":[[0.0,\"#0d0887\"],[0.1111111111111111,\"#46039f\"],[0.2222222222222222,\"#7201a8\"],[0.3333333333333333,\"#9c179e\"],[0.4444444444444444,\"#bd3786\"],[0.5555555555555556,\"#d8576b\"],[0.6666666666666666,\"#ed7953\"],[0.7777777777777778,\"#fb9f3a\"],[0.8888888888888888,\"#fdca26\"],[1.0,\"#f0f921\"]],\"diverging\":[[0,\"#8e0152\"],[0.1,\"#c51b7d\"],[0.2,\"#de77ae\"],[0.3,\"#f1b6da\"],[0.4,\"#fde0ef\"],[0.5,\"#f7f7f7\"],[0.6,\"#e6f5d0\"],[0.7,\"#b8e186\"],[0.8,\"#7fbc41\"],[0.9,\"#4d9221\"],[1,\"#276419\"]]},\"xaxis\":{\"gridcolor\":\"white\",\"linecolor\":\"white\",\"ticks\":\"\",\"title\":{\"standoff\":15},\"zerolinecolor\":\"white\",\"automargin\":true,\"zerolinewidth\":2},\"yaxis\":{\"gridcolor\":\"white\",\"linecolor\":\"white\",\"ticks\":\"\",\"title\":{\"standoff\":15},\"zerolinecolor\":\"white\",\"automargin\":true,\"zerolinewidth\":2},\"scene\":{\"xaxis\":{\"backgroundcolor\":\"#E5ECF6\",\"gridcolor\":\"white\",\"linecolor\":\"white\",\"showbackground\":true,\"ticks\":\"\",\"zerolinecolor\":\"white\",\"gridwidth\":2},\"yaxis\":{\"backgroundcolor\":\"#E5ECF6\",\"gridcolor\":\"white\",\"linecolor\":\"white\",\"showbackground\":true,\"ticks\":\"\",\"zerolinecolor\":\"white\",\"gridwidth\":2},\"zaxis\":{\"backgroundcolor\":\"#E5ECF6\",\"gridcolor\":\"white\",\"linecolor\":\"white\",\"showbackground\":true,\"ticks\":\"\",\"zerolinecolor\":\"white\",\"gridwidth\":2}},\"shapedefaults\":{\"line\":{\"color\":\"#2a3f5f\"}},\"annotationdefaults\":{\"arrowcolor\":\"#2a3f5f\",\"arrowhead\":0,\"arrowwidth\":1},\"geo\":{\"bgcolor\":\"white\",\"landcolor\":\"#E5ECF6\",\"subunitcolor\":\"white\",\"showland\":true,\"showlakes\":true,\"lakecolor\":\"white\"},\"title\":{\"x\":0.05},\"mapbox\":{\"style\":\"light\"}}},\"xaxis\":{\"anchor\":\"y\",\"domain\":[0.0,1.0],\"title\":{\"text\":\"Mês (2022)\"},\"tickmode\":\"array\",\"tickvals\":[\"2022-02\",\"2022-03\",\"2022-04\",\"2022-05\",\"2022-06\"],\"ticktext\":[\"Fevereiro\",\"Março\",\"Abril\",\"Maio\",\"Junho\"]},\"yaxis\":{\"anchor\":\"x\",\"domain\":[0.0,1.0],\"title\":{\"text\":\"Diferença Cotação (R$)\"},\"tickmode\":\"array\",\"tickvals\":[0,0.5,1],\"ticktext\":[\"R$ 0\",\"R$ 0,50\",\"R$ 1\"]},\"legend\":{\"tracegroupgap\":0},\"margin\":{\"t\":60},\"hoverlabel\":{\"font\":{\"size\":14,\"family\":\"Roboto\"},\"bgcolor\":\"white\"}},                        {\"responsive\": true}                    ).then(function(){\n",
       "                            \n",
       "var gd = document.getElementById('1edfe411-7d3f-4ee6-8847-3a0f723f0979');\n",
       "var x = new MutationObserver(function (mutations, observer) {{\n",
       "        var display = window.getComputedStyle(gd).display;\n",
       "        if (!display || display === 'none') {{\n",
       "            console.log([gd, 'removed!']);\n",
       "            Plotly.purge(gd);\n",
       "            observer.disconnect();\n",
       "        }}\n",
       "}});\n",
       "\n",
       "// Listen for the removal of the full notebook cells\n",
       "var notebookContainer = gd.closest('#notebook-container');\n",
       "if (notebookContainer) {{\n",
       "    x.observe(notebookContainer, {childList: true});\n",
       "}}\n",
       "\n",
       "// Listen for the clearing of the current output cell\n",
       "var outputEl = gd.closest('.output');\n",
       "if (outputEl) {{\n",
       "    x.observe(outputEl, {childList: true});\n",
       "}}\n",
       "\n",
       "                        })                };                });            </script>        </div>"
      ]
     },
     "metadata": {},
     "output_type": "display_data"
    }
   ],
   "source": [
    "diff = px.line(x=df_itsa['Data'], y=df_itsa['Diferença Fechamento'], line_shape='spline',\n",
    "               labels={'y': 'Diferença Cotação (R$)', 'x': 'Mês (2022)'})\n",
    "diff.update_traces(connectgaps=True)\n",
    "\n",
    "diff.add_trace(go.Scatter(\n",
    "        hovertemplate = 'Price: %{y:$.2f}<extra></extra>',\n",
    "))\n",
    "diff.update_traces(hovertemplate='Data: %{x} <br>Diferença Cotação: R$ %{y:.2f}') #\n",
    "\n",
    "diff.update_layout(\n",
    "    yaxis = dict(\n",
    "        tickmode = 'array',\n",
    "        tickvals = [0,0.5,1],\n",
    "        ticktext = ['R$ 0', 'R$ 0,50', 'R$ 1']\n",
    "    ),\n",
    "    xaxis = dict(\n",
    "        tickmode = 'array',\n",
    "        tickvals = ['2022-02', '2022-03', '2022-04', '2022-05', '2022-06'],\n",
    "        ticktext = ['Fevereiro', 'Março', 'Abril', 'Maio', 'Junho']\n",
    "    ),\n",
    "    hoverlabel=dict(\n",
    "        bgcolor=\"white\",\n",
    "        font_size=14,\n",
    "        font_family=\"Roboto\",\n",
    "    )\n",
    ")\n",
    "\n",
    "diff.show()"
   ]
  },
  {
   "cell_type": "code",
   "execution_count": null,
   "id": "ccd34c1e",
   "metadata": {
    "id": "sxYb9lljsLXn",
    "papermill": {
     "duration": 0.010424,
     "end_time": "2022-12-15T15:29:20.499458",
     "exception": false,
     "start_time": "2022-12-15T15:29:20.489034",
     "status": "completed"
    },
    "tags": []
   },
   "outputs": [],
   "source": []
  }
 ],
 "metadata": {
  "kernelspec": {
   "display_name": "Python 3",
   "language": "python",
   "name": "python3"
  },
  "language_info": {
   "codemirror_mode": {
    "name": "ipython",
    "version": 3
   },
   "file_extension": ".py",
   "mimetype": "text/x-python",
   "name": "python",
   "nbconvert_exporter": "python",
   "pygments_lexer": "ipython3",
   "version": "3.7.12"
  },
  "papermill": {
   "default_parameters": {},
   "duration": 37.133165,
   "end_time": "2022-12-15T15:29:21.128872",
   "environment_variables": {},
   "exception": null,
   "input_path": "__notebook__.ipynb",
   "output_path": "__notebook__.ipynb",
   "parameters": {},
   "start_time": "2022-12-15T15:28:43.995707",
   "version": "2.3.4"
  }
 },
 "nbformat": 4,
 "nbformat_minor": 5
}
